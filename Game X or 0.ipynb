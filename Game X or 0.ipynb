{
 "cells": [
  {
   "cell_type": "code",
   "execution_count": 1,
   "id": "7f6d3609",
   "metadata": {},
   "outputs": [
    {
     "name": "stdout",
     "output_type": "stream",
     "text": [
      " 0 1 2\n",
      "0 - - -\n",
      "1 - - -\n",
      "2 - - -\n"
     ]
    }
   ],
   "source": [
    "field = [ [\"-\", \"-\", \"-\"] for i in range(3) ]\n",
    "\n",
    "def show():\n",
    "    print(f' 0 1 2')\n",
    "    for i in range(3):\n",
    "        print(f\"{i} {field[i][0]} {field[i][1]} {field[i][2]}\") \n",
    "\n",
    "show()"
   ]
  },
  {
   "cell_type": "code",
   "execution_count": 3,
   "id": "f031de0e",
   "metadata": {},
   "outputs": [
    {
     "name": "stdout",
     "output_type": "stream",
     "text": [
      "Ваш ход: 0 2\n"
     ]
    },
    {
     "data": {
      "text/plain": [
       "(0, 2)"
      ]
     },
     "execution_count": 3,
     "metadata": {},
     "output_type": "execute_result"
    }
   ],
   "source": [
    "def ask(): # Функция, с помощью которой получим ход от пользователя\n",
    "    while True:\n",
    "        x, y = map(int, input(\"Ваш ход: \").split())\n",
    "        \n",
    "        if 0 <= x <= 2 and 0 <= y <= 2: # Условия по координатам\n",
    "            if field [x][y] == \"-\": # Условие, претотвращающая повторного внесения\n",
    "                return x, y\n",
    "            else:\n",
    "                print('Клетка занята, выберите другую')\n",
    "        else:\n",
    "            print('Координаты вне диапазона, выберите от 0 до 2')\n",
    "\n",
    "\n",
    "ask()"
   ]
  },
  {
   "cell_type": "code",
   "execution_count": 4,
   "id": "f31f82ee",
   "metadata": {},
   "outputs": [
    {
     "data": {
      "text/plain": [
       "False"
      ]
     },
     "execution_count": 4,
     "metadata": {},
     "output_type": "execute_result"
    }
   ],
   "source": [
    "def check_win():\n",
    "    win_cord = (((0, 0), (0, 1), (0, 2)), ((1, 0), (1, 1), (1, 2)), ((2, 0), (2, 1), (2, 2)),\n",
    "                ((0, 2), (1, 1), (2, 0)), ((0, 0), (1, 1), (2, 2)), ((0, 0), (1, 0), (2, 0)),\n",
    "                ((0, 1), (1, 1), (2, 1)), ((0, 2), (1, 2), (2, 2)))\n",
    "    for cord in win_cord:\n",
    "        symbols = []\n",
    "        for c in cord:\n",
    "            symbols.append(field[c[0]][c[1]])\n",
    "        if symbols == [\"X\", \"X\", \"X\"]:\n",
    "            print(\"Выиграл X!!!\")\n",
    "            return True\n",
    "        if symbols == [\"0\", \"0\", \"0\"]:\n",
    "            print(\"Выиграл 0!!!\")\n",
    "            return True\n",
    "    return False\n",
    "\n",
    "check_win()"
   ]
  },
  {
   "cell_type": "code",
   "execution_count": null,
   "id": "a060a4b9",
   "metadata": {},
   "outputs": [
    {
     "name": "stdout",
     "output_type": "stream",
     "text": [
      " 0 1 2\n",
      "0 - - -\n",
      "1 - - -\n",
      "2 - - -\n",
      " Ходит крестик!\n",
      "Ваш ход: 0 2\n",
      " 0 1 2\n",
      "0 - - X\n",
      "1 - - -\n",
      "2 - - -\n",
      " Ходит нолик!\n"
     ]
    }
   ],
   "source": [
    "# Переменная-счетчик в которой будет подсчет ходов\n",
    "count = 0\n",
    "while True:\n",
    "    count += 1\n",
    "    show()\n",
    "    if count % 2 == 1:\n",
    "        print(\" Ходит крестик!\")\n",
    "    else:\n",
    "        print(\" Ходит нолик!\")\n",
    "    \n",
    "    x, y = ask()\n",
    "    \n",
    "    if count % 2 == 1:\n",
    "        field[x][y] = \"X\"\n",
    "    else:\n",
    "        field[x][y] = \"0\"\n",
    "    \n",
    "    if check_win():\n",
    "        break\n",
    "    \n",
    "    if count == 9:\n",
    "        print(\" Ничья!\")\n",
    "        break"
   ]
  },
  {
   "cell_type": "code",
   "execution_count": null,
   "id": "3e7f64bc",
   "metadata": {},
   "outputs": [],
   "source": []
  },
  {
   "cell_type": "code",
   "execution_count": null,
   "id": "5013684e",
   "metadata": {},
   "outputs": [],
   "source": []
  },
  {
   "cell_type": "code",
   "execution_count": null,
   "id": "76e385e4",
   "metadata": {},
   "outputs": [],
   "source": []
  }
 ],
 "metadata": {
  "kernelspec": {
   "display_name": "Python 3",
   "language": "python",
   "name": "python3"
  },
  "language_info": {
   "codemirror_mode": {
    "name": "ipython",
    "version": 3
   },
   "file_extension": ".py",
   "mimetype": "text/x-python",
   "name": "python",
   "nbconvert_exporter": "python",
   "pygments_lexer": "ipython3",
   "version": "3.8.8"
  }
 },
 "nbformat": 4,
 "nbformat_minor": 5
}
