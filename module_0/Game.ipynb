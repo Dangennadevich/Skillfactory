{
 "cells": [
  {
   "cell_type": "code",
   "execution_count": 10,
   "id": "138dcc92",
   "metadata": {},
   "outputs": [
    {
     "name": "stdout",
     "output_type": "stream",
     "text": [
      "Загадано число от 1 до 100\n"
     ]
    }
   ],
   "source": [
    "import numpy as np\n",
    "number = np.random.randint(1,101)   # загадали число\n",
    "print (\"Загадано число от 1 до 100\")"
   ]
  },
  {
   "cell_type": "code",
   "execution_count": null,
   "id": "b254b0dc",
   "metadata": {},
   "outputs": [],
   "source": []
  },
  {
   "cell_type": "code",
   "execution_count": 14,
   "id": "1145b7dd",
   "metadata": {},
   "outputs": [],
   "source": [
    "def Bin_Search(number): # Функция принимает загаданное число\n",
    "    \"\"\"Функция с бинарным поиском\"\"\"\n",
    "    count=1 # Счетчик попыток\n",
    "    start_list=1 # Начало списка\n",
    "    end_list=100 # Конец списка\n",
    "    average_list=int(end_list/2) # Середина списка\n",
    "    while average_list != number: # Нахождим искомое значение\n",
    "        count += 1\n",
    "        if number > average_list:\n",
    "            start_list = average_list+1\n",
    "        else:\n",
    "            end_list = average_list-1\n",
    "        average_list = int((start_list+end_list)/2)\n",
    "        \n",
    "    return count # Функция возвращает число сделанных попыток"
   ]
  },
  {
   "cell_type": "code",
   "execution_count": 17,
   "id": "80509383",
   "metadata": {},
   "outputs": [],
   "source": [
    "def score_game(Bin_Search):\n",
    "    '''Запускаем игру 1000 раз, чтобы узнать, как быстро игра угадывает число'''\n",
    "    count_ls = []\n",
    "    np.random.seed(1)  # фиксируем RANDOM SEED, чтобы ваш эксперимент был воспроизводим!\n",
    "    random_array = np.random.randint(1,101, size=(1000))\n",
    "    for number in random_array:\n",
    "        count_ls.append(Bin_Search(number))\n",
    "        \n",
    "    score = int(np.mean(count_ls))\n",
    "    print(f\"Ваш алгоритм угадывает число в среднем за {score} попыток\")\n",
    "    return(score)"
   ]
  },
  {
   "cell_type": "code",
   "execution_count": 18,
   "id": "9f14a2d0",
   "metadata": {},
   "outputs": [
    {
     "name": "stdout",
     "output_type": "stream",
     "text": [
      "Ваш алгоритм угадывает число в среднем за 5 попыток\n"
     ]
    },
    {
     "data": {
      "text/plain": [
       "5"
      ]
     },
     "execution_count": 18,
     "metadata": {},
     "output_type": "execute_result"
    }
   ],
   "source": [
    "score_game(Bin_Search)"
   ]
  },
  {
   "cell_type": "code",
   "execution_count": null,
   "id": "61352c38",
   "metadata": {},
   "outputs": [],
   "source": []
  }
 ],
 "metadata": {
  "kernelspec": {
   "display_name": "Python 3",
   "language": "python",
   "name": "python3"
  },
  "language_info": {
   "codemirror_mode": {
    "name": "ipython",
    "version": 3
   },
   "file_extension": ".py",
   "mimetype": "text/x-python",
   "name": "python",
   "nbconvert_exporter": "python",
   "pygments_lexer": "ipython3",
   "version": "3.8.8"
  }
 },
 "nbformat": 4,
 "nbformat_minor": 5
}
