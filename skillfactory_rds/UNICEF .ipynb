{
 "cells": [
  {
   "cell_type": "code",
   "execution_count": 1,
   "id": "20040ac1",
   "metadata": {},
   "outputs": [],
   "source": [
    "import pandas as pd\n",
    "import matplotlib.pyplot as plt\n",
    "import seaborn as sns\n",
    "from itertools import combinations\n",
    "from scipy.stats import ttest_ind\n",
    "\n",
    "pd.set_option('display.max_columns', 50) # показывать больше колонок\n",
    "pd.set_option('display.max_rows', 50) # показывать больше строк\n",
    "\n",
    "df = pd.read_csv('C:\\\\Users\\\\Asus\\\\stud_math.csv')"
   ]
  },
  {
   "cell_type": "code",
   "execution_count": 2,
   "id": "a648e2aa",
   "metadata": {},
   "outputs": [],
   "source": [
    "# Предобработка\n",
    "\n",
    "# Функция строит гистограмму, считая количество значений и выводит статистику о серии.\n",
    "def numeric_info(data): \n",
    "    count = len(df[data].value_counts())\n",
    "    df[data].hist(bins = count, grid= False)\n",
    "    display(df[data].describe())\n",
    "    display(df[data].value_counts())\n",
    "    display(df.loc[:, [data]].info())\n",
    "\n",
    "def q_values2_0(data):\n",
    "    df[data] = df[data].apply(lambda x: None if pd.isnull(x) else None if x == 'nan' \n",
    "                      else x if '(' not in x else x[:x.find('(')].strip())\n",
    "    display(df[data].value_counts())\n",
    "    df.loc[:, [data]].info()\n",
    "\n",
    "def non_relevat_values(data):\n",
    "    IQR = df[data].quantile(0.75) - df[data].quantile(0.25)\n",
    "    perc25 = df[data].quantile(0.25)\n",
    "    perc75 = df[data].quantile(0.75)\n",
    "    max_value = perc75 + 1.5 * IQR\n",
    "    min_value = perc25 - 1.5 * IQR\n",
    "    print('25-й перцентиль: {},'.format(perc25), '75-й перцентиль: {},'.format(\n",
    "    perc75), \"IQR: {}, \".format(IQR), \"Границы выбросов: [{f}, {l}].\".format(\n",
    "        f=min_value, l=max_value))\n",
    "    \n",
    "    df[data] = df[data].apply(lambda x: None if x > max_value else x\n",
    "                             if x < min_value else x)\n",
    "    print('\\nИзбавляемся от выбросов учитывая найденные границы.')\n",
    "    df[data].hist()"
   ]
  },
  {
   "cell_type": "markdown",
   "id": "ea272440",
   "metadata": {},
   "source": [
    "Расшифровка столбцов DataFrame"
   ]
  },
  {
   "cell_type": "code",
   "execution_count": 3,
   "id": "57a322f0",
   "metadata": {},
   "outputs": [
    {
     "data": {
      "text/plain": [
       "Index(['school', 'sex', 'age', 'address', 'famsize', 'Pstatus', 'Medu', 'Fedu',\n",
       "       'Mjob', 'Fjob', 'reason', 'guardian', 'traveltime', 'studytime',\n",
       "       'failures', 'schoolsup', 'famsup', 'paid', 'activities', 'nursery',\n",
       "       'studytime, granular', 'higher', 'internet', 'romantic', 'famrel',\n",
       "       'freetime', 'goout', 'health', 'absences', 'score'],\n",
       "      dtype='object')"
      ]
     },
     "execution_count": 3,
     "metadata": {},
     "output_type": "execute_result"
    }
   ],
   "source": [
    "df.columns"
   ]
  },
  {
   "cell_type": "raw",
   "id": "ca60bcd1",
   "metadata": {},
   "source": [
    "0 school — аббревиатура школы, в которой учится ученик\n",
    "1 sex — пол ученика ('F' - женский, 'M' - мужской)\n",
    "2 age — возраст ученика (от 15 до 22)\n",
    "3 address — тип адреса ученика ('U' - городской, 'R' - за городом)\n",
    "4 famsize — размер семьи('LE3' <= 3, 'GT3' >3)\n",
    "5 Pstatus — статус совместного жилья родителей ('T' - живут вместе 'A' - раздельно)\n",
    "6 Medu — образование матери (0 - нет, 1 - 4 класса, 2 - 5-9 классы, 3 - среднее специальное или 11 классов, 4 - высшее)\n",
    "7 Fedu — образование отца (0 - нет, 1 - 4 класса, 2 - 5-9 классы, 3 - среднее специальное или 11 классов, 4 - высшее)\n",
    "8 Mjob — работа матери ('teacher' - учитель, 'health' - сфера здравоохранения, 'services' - гос служба, 'at_home' - не работает, 'other' - другое)\n",
    "9 Fjob — работа отца ('teacher' - учитель, 'health' - сфера здравоохранения, 'services' - гос служба, 'at_home' - не работает, 'other' - другое)\n",
    "10 reason — причина выбора школы ('home' - близость к дому, 'reputation' - репутация школы, 'course' - образовательная программа, 'other' - другое)\n",
    "11 guardian — опекун ('mother' - мать, 'father' - отец, 'other' - другое)\n",
    "12 traveltime — время в пути до школы (1 - <15 мин., 2 - 15-30 мин., 3 - 30-60 мин., 4 - >60 мин.)\n",
    "13 studytime — время на учёбу помимо школы в неделю (1 - <2 часов, 2 - 2-5 часов, 3 - 5-10 часов, 4 - >10 часов)\n",
    "14 failures — количество внеучебных неудач (n, если 1<=n<=3, иначе 0)\n",
    "15 schoolsup — дополнительная образовательная поддержка (yes или no)\n",
    "16 famsup — семейная образовательная поддержка (yes или no)\n",
    "17 paid — дополнительные платные занятия по математике (yes или no)\n",
    "18 activities — дополнительные внеучебные занятия (yes или no)\n",
    "19 nursery — посещал детский сад (yes или no)\n",
    "20 higher — хочет получить высшее образование (yes или no)\n",
    "21 internet — наличие интернета дома (yes или no)\n",
    "22 romantic — в романтических отношениях (yes или no)\n",
    "23 famrel — семейные отношения (от 1 - очень плохо до 5 - очень хорошо)\n",
    "24 freetime — свободное время после школы (от 1 - очень мало до 5 - очень мого)\n",
    "25 goout — проведение времени с друзьями (от 1 - очень мало до 5 - очень много)\n",
    "26 health — текущее состояние здоровья (от 1 - очень плохо до 5 - очень хорошо)\n",
    "27 absences — количество пропущенных занятий\n",
    "28 score — баллы по госэкзамену по математике"
   ]
  },
  {
   "cell_type": "code",
   "execution_count": 4,
   "id": "799d84f2",
   "metadata": {},
   "outputs": [
    {
     "data": {
      "text/html": [
       "<div>\n",
       "<style scoped>\n",
       "    .dataframe tbody tr th:only-of-type {\n",
       "        vertical-align: middle;\n",
       "    }\n",
       "\n",
       "    .dataframe tbody tr th {\n",
       "        vertical-align: top;\n",
       "    }\n",
       "\n",
       "    .dataframe thead th {\n",
       "        text-align: right;\n",
       "    }\n",
       "</style>\n",
       "<table border=\"1\" class=\"dataframe\">\n",
       "  <thead>\n",
       "    <tr style=\"text-align: right;\">\n",
       "      <th></th>\n",
       "      <th>school</th>\n",
       "      <th>sex</th>\n",
       "      <th>age</th>\n",
       "      <th>address</th>\n",
       "      <th>famsize</th>\n",
       "      <th>Pstatus</th>\n",
       "      <th>Medu</th>\n",
       "      <th>Fedu</th>\n",
       "      <th>Mjob</th>\n",
       "      <th>Fjob</th>\n",
       "      <th>reason</th>\n",
       "      <th>guardian</th>\n",
       "      <th>traveltime</th>\n",
       "      <th>studytime</th>\n",
       "      <th>failures</th>\n",
       "      <th>schoolsup</th>\n",
       "      <th>famsup</th>\n",
       "      <th>paid</th>\n",
       "      <th>activities</th>\n",
       "      <th>nursery</th>\n",
       "      <th>studytime, granular</th>\n",
       "      <th>higher</th>\n",
       "      <th>internet</th>\n",
       "      <th>romantic</th>\n",
       "      <th>famrel</th>\n",
       "      <th>freetime</th>\n",
       "      <th>goout</th>\n",
       "      <th>health</th>\n",
       "      <th>absences</th>\n",
       "      <th>score</th>\n",
       "    </tr>\n",
       "  </thead>\n",
       "  <tbody>\n",
       "    <tr>\n",
       "      <th>0</th>\n",
       "      <td>GP</td>\n",
       "      <td>F</td>\n",
       "      <td>18</td>\n",
       "      <td>U</td>\n",
       "      <td>NaN</td>\n",
       "      <td>A</td>\n",
       "      <td>4.0</td>\n",
       "      <td>4.0</td>\n",
       "      <td>at_home</td>\n",
       "      <td>teacher</td>\n",
       "      <td>course</td>\n",
       "      <td>mother</td>\n",
       "      <td>2.0</td>\n",
       "      <td>2.0</td>\n",
       "      <td>0.0</td>\n",
       "      <td>yes</td>\n",
       "      <td>no</td>\n",
       "      <td>no</td>\n",
       "      <td>no</td>\n",
       "      <td>yes</td>\n",
       "      <td>-6.0</td>\n",
       "      <td>yes</td>\n",
       "      <td>NaN</td>\n",
       "      <td>no</td>\n",
       "      <td>4.0</td>\n",
       "      <td>3.0</td>\n",
       "      <td>4.0</td>\n",
       "      <td>3.0</td>\n",
       "      <td>6.0</td>\n",
       "      <td>30.0</td>\n",
       "    </tr>\n",
       "    <tr>\n",
       "      <th>1</th>\n",
       "      <td>GP</td>\n",
       "      <td>F</td>\n",
       "      <td>17</td>\n",
       "      <td>U</td>\n",
       "      <td>GT3</td>\n",
       "      <td>NaN</td>\n",
       "      <td>1.0</td>\n",
       "      <td>1.0</td>\n",
       "      <td>at_home</td>\n",
       "      <td>other</td>\n",
       "      <td>course</td>\n",
       "      <td>father</td>\n",
       "      <td>1.0</td>\n",
       "      <td>2.0</td>\n",
       "      <td>0.0</td>\n",
       "      <td>no</td>\n",
       "      <td>yes</td>\n",
       "      <td>no</td>\n",
       "      <td>no</td>\n",
       "      <td>no</td>\n",
       "      <td>-6.0</td>\n",
       "      <td>yes</td>\n",
       "      <td>yes</td>\n",
       "      <td>no</td>\n",
       "      <td>5.0</td>\n",
       "      <td>3.0</td>\n",
       "      <td>3.0</td>\n",
       "      <td>3.0</td>\n",
       "      <td>4.0</td>\n",
       "      <td>30.0</td>\n",
       "    </tr>\n",
       "    <tr>\n",
       "      <th>2</th>\n",
       "      <td>GP</td>\n",
       "      <td>F</td>\n",
       "      <td>15</td>\n",
       "      <td>U</td>\n",
       "      <td>LE3</td>\n",
       "      <td>T</td>\n",
       "      <td>1.0</td>\n",
       "      <td>1.0</td>\n",
       "      <td>at_home</td>\n",
       "      <td>other</td>\n",
       "      <td>other</td>\n",
       "      <td>mother</td>\n",
       "      <td>1.0</td>\n",
       "      <td>2.0</td>\n",
       "      <td>3.0</td>\n",
       "      <td>yes</td>\n",
       "      <td>no</td>\n",
       "      <td>NaN</td>\n",
       "      <td>no</td>\n",
       "      <td>yes</td>\n",
       "      <td>-6.0</td>\n",
       "      <td>yes</td>\n",
       "      <td>yes</td>\n",
       "      <td>NaN</td>\n",
       "      <td>4.0</td>\n",
       "      <td>3.0</td>\n",
       "      <td>2.0</td>\n",
       "      <td>3.0</td>\n",
       "      <td>10.0</td>\n",
       "      <td>50.0</td>\n",
       "    </tr>\n",
       "    <tr>\n",
       "      <th>3</th>\n",
       "      <td>GP</td>\n",
       "      <td>F</td>\n",
       "      <td>15</td>\n",
       "      <td>U</td>\n",
       "      <td>GT3</td>\n",
       "      <td>T</td>\n",
       "      <td>4.0</td>\n",
       "      <td>2.0</td>\n",
       "      <td>health</td>\n",
       "      <td>NaN</td>\n",
       "      <td>home</td>\n",
       "      <td>mother</td>\n",
       "      <td>1.0</td>\n",
       "      <td>3.0</td>\n",
       "      <td>0.0</td>\n",
       "      <td>no</td>\n",
       "      <td>yes</td>\n",
       "      <td>yes</td>\n",
       "      <td>yes</td>\n",
       "      <td>yes</td>\n",
       "      <td>-9.0</td>\n",
       "      <td>yes</td>\n",
       "      <td>yes</td>\n",
       "      <td>yes</td>\n",
       "      <td>3.0</td>\n",
       "      <td>2.0</td>\n",
       "      <td>2.0</td>\n",
       "      <td>5.0</td>\n",
       "      <td>2.0</td>\n",
       "      <td>75.0</td>\n",
       "    </tr>\n",
       "    <tr>\n",
       "      <th>4</th>\n",
       "      <td>GP</td>\n",
       "      <td>F</td>\n",
       "      <td>16</td>\n",
       "      <td>U</td>\n",
       "      <td>GT3</td>\n",
       "      <td>T</td>\n",
       "      <td>3.0</td>\n",
       "      <td>3.0</td>\n",
       "      <td>other</td>\n",
       "      <td>other</td>\n",
       "      <td>home</td>\n",
       "      <td>father</td>\n",
       "      <td>1.0</td>\n",
       "      <td>2.0</td>\n",
       "      <td>0.0</td>\n",
       "      <td>no</td>\n",
       "      <td>yes</td>\n",
       "      <td>yes</td>\n",
       "      <td>no</td>\n",
       "      <td>yes</td>\n",
       "      <td>-6.0</td>\n",
       "      <td>yes</td>\n",
       "      <td>no</td>\n",
       "      <td>no</td>\n",
       "      <td>4.0</td>\n",
       "      <td>3.0</td>\n",
       "      <td>2.0</td>\n",
       "      <td>5.0</td>\n",
       "      <td>4.0</td>\n",
       "      <td>50.0</td>\n",
       "    </tr>\n",
       "  </tbody>\n",
       "</table>\n",
       "</div>"
      ],
      "text/plain": [
       "  school sex  age address famsize Pstatus  Medu  Fedu     Mjob     Fjob  \\\n",
       "0     GP   F   18       U     NaN       A   4.0   4.0  at_home  teacher   \n",
       "1     GP   F   17       U     GT3     NaN   1.0   1.0  at_home    other   \n",
       "2     GP   F   15       U     LE3       T   1.0   1.0  at_home    other   \n",
       "3     GP   F   15       U     GT3       T   4.0   2.0   health      NaN   \n",
       "4     GP   F   16       U     GT3       T   3.0   3.0    other    other   \n",
       "\n",
       "   reason guardian  traveltime  studytime  failures schoolsup famsup paid  \\\n",
       "0  course   mother         2.0        2.0       0.0       yes     no   no   \n",
       "1  course   father         1.0        2.0       0.0        no    yes   no   \n",
       "2   other   mother         1.0        2.0       3.0       yes     no  NaN   \n",
       "3    home   mother         1.0        3.0       0.0        no    yes  yes   \n",
       "4    home   father         1.0        2.0       0.0        no    yes  yes   \n",
       "\n",
       "  activities nursery  studytime, granular higher internet romantic  famrel  \\\n",
       "0         no     yes                 -6.0    yes      NaN       no     4.0   \n",
       "1         no      no                 -6.0    yes      yes       no     5.0   \n",
       "2         no     yes                 -6.0    yes      yes      NaN     4.0   \n",
       "3        yes     yes                 -9.0    yes      yes      yes     3.0   \n",
       "4         no     yes                 -6.0    yes       no       no     4.0   \n",
       "\n",
       "   freetime  goout  health  absences  score  \n",
       "0       3.0    4.0     3.0       6.0   30.0  \n",
       "1       3.0    3.0     3.0       4.0   30.0  \n",
       "2       3.0    2.0     3.0      10.0   50.0  \n",
       "3       2.0    2.0     5.0       2.0   75.0  \n",
       "4       3.0    2.0     5.0       4.0   50.0  "
      ]
     },
     "metadata": {},
     "output_type": "display_data"
    },
    {
     "name": "stdout",
     "output_type": "stream",
     "text": [
      "<class 'pandas.core.frame.DataFrame'>\n",
      "RangeIndex: 395 entries, 0 to 394\n",
      "Data columns (total 30 columns):\n",
      " #   Column               Non-Null Count  Dtype  \n",
      "---  ------               --------------  -----  \n",
      " 0   school               395 non-null    object \n",
      " 1   sex                  395 non-null    object \n",
      " 2   age                  395 non-null    int64  \n",
      " 3   address              378 non-null    object \n",
      " 4   famsize              368 non-null    object \n",
      " 5   Pstatus              350 non-null    object \n",
      " 6   Medu                 392 non-null    float64\n",
      " 7   Fedu                 371 non-null    float64\n",
      " 8   Mjob                 376 non-null    object \n",
      " 9   Fjob                 359 non-null    object \n",
      " 10  reason               378 non-null    object \n",
      " 11  guardian             364 non-null    object \n",
      " 12  traveltime           367 non-null    float64\n",
      " 13  studytime            388 non-null    float64\n",
      " 14  failures             373 non-null    float64\n",
      " 15  schoolsup            386 non-null    object \n",
      " 16  famsup               356 non-null    object \n",
      " 17  paid                 355 non-null    object \n",
      " 18  activities           381 non-null    object \n",
      " 19  nursery              379 non-null    object \n",
      " 20  studytime, granular  388 non-null    float64\n",
      " 21  higher               375 non-null    object \n",
      " 22  internet             361 non-null    object \n",
      " 23  romantic             364 non-null    object \n",
      " 24  famrel               368 non-null    float64\n",
      " 25  freetime             384 non-null    float64\n",
      " 26  goout                387 non-null    float64\n",
      " 27  health               380 non-null    float64\n",
      " 28  absences             383 non-null    float64\n",
      " 29  score                389 non-null    float64\n",
      "dtypes: float64(12), int64(1), object(17)\n",
      "memory usage: 92.7+ KB\n"
     ]
    }
   ],
   "source": [
    "display(df.head(5))\n",
    "df.info()"
   ]
  },
  {
   "cell_type": "markdown",
   "id": "c4c55570",
   "metadata": {},
   "source": [
    "В DataFrame содержится информация об 395 студентах. По каждому студенту раскрывается информация по 29 критериям (13 числовых переменных, 17 номинативных переменных), однако сразу видно, что имеются пропуски."
   ]
  },
  {
   "cell_type": "markdown",
   "id": "dbfece08",
   "metadata": {},
   "source": [
    "# Первичная обработка стобцов датасета"
   ]
  },
  {
   "cell_type": "raw",
   "id": "3a34c540",
   "metadata": {},
   "source": [
    "0 school — аббревиатура школы, в которой учится ученик"
   ]
  },
  {
   "cell_type": "code",
   "execution_count": 5,
   "id": "7d24970c",
   "metadata": {},
   "outputs": [
    {
     "data": {
      "text/plain": [
       "GP    349\n",
       "MS     46\n",
       "Name: school, dtype: int64"
      ]
     },
     "metadata": {},
     "output_type": "display_data"
    },
    {
     "name": "stdout",
     "output_type": "stream",
     "text": [
      "<class 'pandas.core.frame.DataFrame'>\n",
      "RangeIndex: 395 entries, 0 to 394\n",
      "Data columns (total 1 columns):\n",
      " #   Column  Non-Null Count  Dtype \n",
      "---  ------  --------------  ----- \n",
      " 0   school  395 non-null    object\n",
      "dtypes: object(1)\n",
      "memory usage: 3.2+ KB\n"
     ]
    }
   ],
   "source": [
    "q_values2_0('school')"
   ]
  },
  {
   "cell_type": "markdown",
   "id": "ec8bc391",
   "metadata": {},
   "source": [
    "Ученики учатся в двух школах GP и MS, приемущественно в GP. Пропусков в этих данных нет"
   ]
  },
  {
   "cell_type": "raw",
   "id": "4a68b0fe",
   "metadata": {},
   "source": [
    "1 sex — пол ученика ('F' - женский, 'M' - мужской)"
   ]
  },
  {
   "cell_type": "code",
   "execution_count": 6,
   "id": "264673f4",
   "metadata": {},
   "outputs": [
    {
     "data": {
      "text/plain": [
       "F    208\n",
       "M    187\n",
       "Name: sex, dtype: int64"
      ]
     },
     "metadata": {},
     "output_type": "display_data"
    },
    {
     "name": "stdout",
     "output_type": "stream",
     "text": [
      "<class 'pandas.core.frame.DataFrame'>\n",
      "RangeIndex: 395 entries, 0 to 394\n",
      "Data columns (total 1 columns):\n",
      " #   Column  Non-Null Count  Dtype \n",
      "---  ------  --------------  ----- \n",
      " 0   sex     395 non-null    object\n",
      "dtypes: object(1)\n",
      "memory usage: 3.2+ KB\n"
     ]
    }
   ],
   "source": [
    "q_values2_0('sex')"
   ]
  },
  {
   "cell_type": "markdown",
   "id": "da6978e0",
   "metadata": {},
   "source": [
    "В DF так же отсутсвуют пропуски в переменной 'Sex'. Мальчиков учеников немногим меньше, чем девочек."
   ]
  },
  {
   "cell_type": "raw",
   "id": "86f42606",
   "metadata": {},
   "source": [
    "2 age — возраст ученика (от 15 до 22)"
   ]
  },
  {
   "cell_type": "code",
   "execution_count": 7,
   "id": "9c6083b9",
   "metadata": {},
   "outputs": [
    {
     "data": {
      "text/plain": [
       "count    395.000000\n",
       "mean      16.696203\n",
       "std        1.276043\n",
       "min       15.000000\n",
       "25%       16.000000\n",
       "50%       17.000000\n",
       "75%       18.000000\n",
       "max       22.000000\n",
       "Name: age, dtype: float64"
      ]
     },
     "metadata": {},
     "output_type": "display_data"
    },
    {
     "data": {
      "text/plain": [
       "16    104\n",
       "17     98\n",
       "15     82\n",
       "18     82\n",
       "19     24\n",
       "20      3\n",
       "21      1\n",
       "22      1\n",
       "Name: age, dtype: int64"
      ]
     },
     "metadata": {},
     "output_type": "display_data"
    },
    {
     "name": "stdout",
     "output_type": "stream",
     "text": [
      "<class 'pandas.core.frame.DataFrame'>\n",
      "RangeIndex: 395 entries, 0 to 394\n",
      "Data columns (total 1 columns):\n",
      " #   Column  Non-Null Count  Dtype\n",
      "---  ------  --------------  -----\n",
      " 0   age     395 non-null    int64\n",
      "dtypes: int64(1)\n",
      "memory usage: 3.2 KB\n"
     ]
    },
    {
     "data": {
      "text/plain": [
       "None"
      ]
     },
     "metadata": {},
     "output_type": "display_data"
    },
    {
     "data": {
      "image/png": "[encoded data removed]",
      "text/plain": [
       "<Figure size 432x288 with 1 Axes>"
      ]
     },
     "metadata": {
      "needs_background": "light"
     },
     "output_type": "display_data"
    }
   ],
   "source": [
    "numeric_info('age')"
   ]
  },
  {
   "cell_type": "markdown",
   "id": "9b978132",
   "metadata": {},
   "source": [
    "В DF предоставлена информация об учениках в возрасте от 15 до 22 лет включительно. \n",
    "Учеников в возрасте 20, 21, 22 очень мало, однако допускаю возможным, что это не \"вброс\", а ученики не развитых стран, где не всегда дети могут попасть в школу в раннем ворасте. Пропуски отсутсвуют"
   ]
  },
  {
   "cell_type": "raw",
   "id": "0d1f65a7",
   "metadata": {},
   "source": [
    "3 address — тип адреса ученика ('U' - городской, 'R' - за городом)"
   ]
  },
  {
   "cell_type": "code",
   "execution_count": 8,
   "id": "af5836bd",
   "metadata": {},
   "outputs": [
    {
     "data": {
      "text/plain": [
       "U    295\n",
       "R     83\n",
       "Name: address, dtype: int64"
      ]
     },
     "metadata": {},
     "output_type": "display_data"
    },
    {
     "name": "stdout",
     "output_type": "stream",
     "text": [
      "<class 'pandas.core.frame.DataFrame'>\n",
      "RangeIndex: 395 entries, 0 to 394\n",
      "Data columns (total 1 columns):\n",
      " #   Column   Non-Null Count  Dtype \n",
      "---  ------   --------------  ----- \n",
      " 0   address  378 non-null    object\n",
      "dtypes: object(1)\n",
      "memory usage: 3.2+ KB\n"
     ]
    }
   ],
   "source": [
    "q_values2_0('address')"
   ]
  },
  {
   "cell_type": "markdown",
   "id": "ccf4e3a7",
   "metadata": {},
   "source": [
    "Преобладают ученики, живущие в городе. У 17 студентов значение города пропущено, это состовляет примерно 4,4% - приемлимо, что бы не исключать переменную из анализа"
   ]
  },
  {
   "cell_type": "raw",
   "id": "dedc6e4e",
   "metadata": {},
   "source": [
    "4 famsize — размер семьи('LE3' <= 3, 'GT3' >3)"
   ]
  },
  {
   "cell_type": "code",
   "execution_count": 9,
   "id": "08c7915e",
   "metadata": {},
   "outputs": [
    {
     "data": {
      "text/plain": [
       "GT3    261\n",
       "LE3    107\n",
       "Name: famsize, dtype: int64"
      ]
     },
     "metadata": {},
     "output_type": "display_data"
    },
    {
     "name": "stdout",
     "output_type": "stream",
     "text": [
      "<class 'pandas.core.frame.DataFrame'>\n",
      "RangeIndex: 395 entries, 0 to 394\n",
      "Data columns (total 1 columns):\n",
      " #   Column   Non-Null Count  Dtype \n",
      "---  ------   --------------  ----- \n",
      " 0   famsize  368 non-null    object\n",
      "dtypes: object(1)\n",
      "memory usage: 3.2+ KB\n"
     ]
    }
   ],
   "source": [
    "q_values2_0('famsize')"
   ]
  },
  {
   "cell_type": "markdown",
   "id": "e75ea31e",
   "metadata": {},
   "source": [
    "В большенстве семей 4 и более членов семьи. В серии около 7% пропусков, не будем исключать из наблюдений."
   ]
  },
  {
   "cell_type": "raw",
   "id": "69f54e09",
   "metadata": {},
   "source": [
    "5 Pstatus — статус совместного жилья родителей ('T' - живут вместе 'A' - раздельно)"
   ]
  },
  {
   "cell_type": "code",
   "execution_count": 10,
   "id": "f42b6a5e",
   "metadata": {},
   "outputs": [
    {
     "data": {
      "text/plain": [
       "T    314\n",
       "A     36\n",
       "Name: Pstatus, dtype: int64"
      ]
     },
     "metadata": {},
     "output_type": "display_data"
    },
    {
     "name": "stdout",
     "output_type": "stream",
     "text": [
      "<class 'pandas.core.frame.DataFrame'>\n",
      "RangeIndex: 395 entries, 0 to 394\n",
      "Data columns (total 1 columns):\n",
      " #   Column   Non-Null Count  Dtype \n",
      "---  ------   --------------  ----- \n",
      " 0   Pstatus  350 non-null    object\n",
      "dtypes: object(1)\n",
      "memory usage: 3.2+ KB\n"
     ]
    }
   ],
   "source": [
    "q_values2_0('Pstatus')"
   ]
  },
  {
   "cell_type": "markdown",
   "id": "85051fd4",
   "metadata": {},
   "source": [
    "Почти 90% родителей живут вместе. Пропусков около 11%. Заменим их на None и оставим в DF"
   ]
  },
  {
   "cell_type": "raw",
   "id": "07fbeb82",
   "metadata": {},
   "source": [
    "6 Medu — образование матери (0 - нет, 1 - 4 класса, 2 - 5-9 классы, 3 - среднее специальное или 11 классов, 4 - высшее)"
   ]
  },
  {
   "cell_type": "code",
   "execution_count": 11,
   "id": "9914a8b2",
   "metadata": {},
   "outputs": [
    {
     "data": {
      "text/plain": [
       "count    392.000000\n",
       "mean       2.750000\n",
       "std        1.098127\n",
       "min        0.000000\n",
       "25%        2.000000\n",
       "50%        3.000000\n",
       "75%        4.000000\n",
       "max        4.000000\n",
       "Name: Medu, dtype: float64"
      ]
     },
     "metadata": {},
     "output_type": "display_data"
    },
    {
     "data": {
      "text/plain": [
       "4.0    131\n",
       "2.0    102\n",
       "3.0     97\n",
       "1.0     59\n",
       "0.0      3\n",
       "Name: Medu, dtype: int64"
      ]
     },
     "metadata": {},
     "output_type": "display_data"
    },
    {
     "name": "stdout",
     "output_type": "stream",
     "text": [
      "<class 'pandas.core.frame.DataFrame'>\n",
      "RangeIndex: 395 entries, 0 to 394\n",
      "Data columns (total 1 columns):\n",
      " #   Column  Non-Null Count  Dtype  \n",
      "---  ------  --------------  -----  \n",
      " 0   Medu    392 non-null    float64\n",
      "dtypes: float64(1)\n",
      "memory usage: 3.2 KB\n"
     ]
    },
    {
     "data": {
      "text/plain": [
       "None"
      ]
     },
     "metadata": {},
     "output_type": "display_data"
    },
    {
     "data": {
      "image/png": "[encoded data removed]",
      "text/plain": [
       "<Figure size 432x288 with 1 Axes>"
      ]
     },
     "metadata": {
      "needs_background": "light"
     },
     "output_type": "display_data"
    }
   ],
   "source": [
    "numeric_info('Medu')"
   ]
  },
  {
   "cell_type": "markdown",
   "id": "48fbda1e",
   "metadata": {},
   "source": [
    "Меньше 1% мам не имеют образование, более половины мам имеют образование 11 классов / среднее специальное / высшее. Однако среднее образование всех наблюдений на уровне ниже 8 класса. Незначительное количество пропусков в данных."
   ]
  },
  {
   "cell_type": "raw",
   "id": "dc97bd8d",
   "metadata": {},
   "source": [
    "7 Fedu — образование отца (0 - нет, 1 - 4 класса, 2 - 5-9 классы, 3 - среднее специальное или 11 классов, 4 - высшее)"
   ]
  },
  {
   "cell_type": "code",
   "execution_count": 12,
   "id": "9a19472d",
   "metadata": {},
   "outputs": [
    {
     "data": {
      "text/plain": [
       "count    371.000000\n",
       "mean       2.614555\n",
       "std        2.228732\n",
       "min        0.000000\n",
       "25%        2.000000\n",
       "50%        2.000000\n",
       "75%        3.000000\n",
       "max       40.000000\n",
       "Name: Fedu, dtype: float64"
      ]
     },
     "metadata": {},
     "output_type": "display_data"
    },
    {
     "data": {
      "text/plain": [
       "2.0     106\n",
       "3.0      96\n",
       "4.0      88\n",
       "1.0      78\n",
       "0.0       2\n",
       "40.0      1\n",
       "Name: Fedu, dtype: int64"
      ]
     },
     "metadata": {},
     "output_type": "display_data"
    },
    {
     "name": "stdout",
     "output_type": "stream",
     "text": [
      "<class 'pandas.core.frame.DataFrame'>\n",
      "RangeIndex: 395 entries, 0 to 394\n",
      "Data columns (total 1 columns):\n",
      " #   Column  Non-Null Count  Dtype  \n",
      "---  ------  --------------  -----  \n",
      " 0   Fedu    371 non-null    float64\n",
      "dtypes: float64(1)\n",
      "memory usage: 3.2 KB\n"
     ]
    },
    {
     "data": {
      "text/plain": [
       "None"
      ]
     },
     "metadata": {},
     "output_type": "display_data"
    },
    {
     "data": {
      "image/png": "[encoded data removed]",
      "text/plain": [
       "<Figure size 432x288 with 1 Axes>"
      ]
     },
     "metadata": {
      "needs_background": "light"
     },
     "output_type": "display_data"
    }
   ],
   "source": [
    "numeric_info('Fedu')"
   ]
  },
  {
   "cell_type": "markdown",
   "id": "b99fe38a",
   "metadata": {},
   "source": [
    "В данных явно присутсвует вброс, избавимся от него. Пропусков приемлимое количество."
   ]
  },
  {
   "cell_type": "code",
   "execution_count": 13,
   "id": "0db6f1ed",
   "metadata": {},
   "outputs": [
    {
     "name": "stdout",
     "output_type": "stream",
     "text": [
      "25-й перцентиль: 2.0, 75-й перцентиль: 3.0, IQR: 1.0,  Границы выбросов: [0.5, 4.5].\n",
      "\n",
      "Избавляемся от выбросов учитывая найденные границы.\n"
     ]
    },
    {
     "data": {
      "image/png": "[encoded data removed]",
      "text/plain": [
       "<Figure size 432x288 with 1 Axes>"
      ]
     },
     "metadata": {
      "needs_background": "light"
     },
     "output_type": "display_data"
    }
   ],
   "source": [
    "non_relevat_values('Fedu')"
   ]
  },
  {
   "cell_type": "markdown",
   "id": "85a38a8a",
   "metadata": {},
   "source": [
    "Среднее образование отцов ниже, чем мам. Интересно, как у нынешних учеников показатели успеваемости будут коррелировать с этими данными."
   ]
  },
  {
   "cell_type": "raw",
   "id": "e48dadfa",
   "metadata": {},
   "source": [
    "8 Mjob — работа матери ('teacher' - учитель, 'health' - сфера здравоохранения, 'services' - гос служба, 'at_home' - не работает, 'other' - другое)"
   ]
  },
  {
   "cell_type": "code",
   "execution_count": 14,
   "id": "f8b68a4e",
   "metadata": {},
   "outputs": [
    {
     "data": {
      "text/plain": [
       "other       133\n",
       "services     98\n",
       "at_home      58\n",
       "teacher      55\n",
       "health       32\n",
       "Name: Mjob, dtype: int64"
      ]
     },
     "metadata": {},
     "output_type": "display_data"
    },
    {
     "name": "stdout",
     "output_type": "stream",
     "text": [
      "<class 'pandas.core.frame.DataFrame'>\n",
      "RangeIndex: 395 entries, 0 to 394\n",
      "Data columns (total 1 columns):\n",
      " #   Column  Non-Null Count  Dtype \n",
      "---  ------  --------------  ----- \n",
      " 0   Mjob    376 non-null    object\n",
      "dtypes: object(1)\n",
      "memory usage: 3.2+ KB\n"
     ]
    }
   ],
   "source": [
    "q_values2_0('Mjob')"
   ]
  },
  {
   "cell_type": "markdown",
   "id": "6b6b84fe",
   "metadata": {},
   "source": [
    "Около 15% мам безработные."
   ]
  },
  {
   "cell_type": "raw",
   "id": "6721d168",
   "metadata": {},
   "source": [
    "9 Fjob — работа отца ('teacher' - учитель, 'health' - сфера здравоохранения, 'services' - гос служба, 'at_home' - не работает, 'other' - другое)"
   ]
  },
  {
   "cell_type": "code",
   "execution_count": 15,
   "id": "db6f808d",
   "metadata": {},
   "outputs": [
    {
     "data": {
      "text/plain": [
       "other       197\n",
       "services    102\n",
       "teacher      29\n",
       "at_home      16\n",
       "health       15\n",
       "Name: Fjob, dtype: int64"
      ]
     },
     "metadata": {},
     "output_type": "display_data"
    },
    {
     "name": "stdout",
     "output_type": "stream",
     "text": [
      "<class 'pandas.core.frame.DataFrame'>\n",
      "RangeIndex: 395 entries, 0 to 394\n",
      "Data columns (total 1 columns):\n",
      " #   Column  Non-Null Count  Dtype \n",
      "---  ------  --------------  ----- \n",
      " 0   Fjob    359 non-null    object\n",
      "dtypes: object(1)\n",
      "memory usage: 3.2+ KB\n"
     ]
    }
   ],
   "source": [
    "q_values2_0('Fjob')"
   ]
  },
  {
   "cell_type": "markdown",
   "id": "9448aa2f",
   "metadata": {},
   "source": [
    "Только 4.5% отцов не работают. Интересно, если родители не работают - влияет ли это на показатели успеваемости, ведь они могут больше времени уделять ребенку."
   ]
  },
  {
   "cell_type": "raw",
   "id": "9503c738",
   "metadata": {},
   "source": [
    "10 reason — причина выбора школы ('home' - близость к дому, 'reputation' - репутация школы, 'course' - образовательная программа, 'other' - другое)"
   ]
  },
  {
   "cell_type": "code",
   "execution_count": 16,
   "id": "4059ce15",
   "metadata": {},
   "outputs": [
    {
     "data": {
      "text/plain": [
       "course        137\n",
       "home          104\n",
       "reputation    103\n",
       "other          34\n",
       "Name: reason, dtype: int64"
      ]
     },
     "metadata": {},
     "output_type": "display_data"
    },
    {
     "name": "stdout",
     "output_type": "stream",
     "text": [
      "<class 'pandas.core.frame.DataFrame'>\n",
      "RangeIndex: 395 entries, 0 to 394\n",
      "Data columns (total 1 columns):\n",
      " #   Column  Non-Null Count  Dtype \n",
      "---  ------  --------------  ----- \n",
      " 0   reason  378 non-null    object\n",
      "dtypes: object(1)\n",
      "memory usage: 3.2+ KB\n"
     ]
    }
   ],
   "source": [
    "q_values2_0('reason')"
   ]
  },
  {
   "cell_type": "markdown",
   "id": "cdf62d38",
   "metadata": {},
   "source": [
    "Пропуски в норме. Теоретически ученики, кто выбрал школу из за репутации должны быть успешнее остальных."
   ]
  },
  {
   "cell_type": "raw",
   "id": "f3e44e2c",
   "metadata": {},
   "source": [
    "11 guardian — опекун ('mother' - мать, 'father' - отец, 'other' - другое)"
   ]
  },
  {
   "cell_type": "code",
   "execution_count": 17,
   "id": "ee16ff6b",
   "metadata": {},
   "outputs": [
    {
     "data": {
      "text/plain": [
       "mother    250\n",
       "father     86\n",
       "other      28\n",
       "Name: guardian, dtype: int64"
      ]
     },
     "metadata": {},
     "output_type": "display_data"
    },
    {
     "name": "stdout",
     "output_type": "stream",
     "text": [
      "<class 'pandas.core.frame.DataFrame'>\n",
      "RangeIndex: 395 entries, 0 to 394\n",
      "Data columns (total 1 columns):\n",
      " #   Column    Non-Null Count  Dtype \n",
      "---  ------    --------------  ----- \n",
      " 0   guardian  364 non-null    object\n",
      "dtypes: object(1)\n",
      "memory usage: 3.2+ KB\n"
     ]
    }
   ],
   "source": [
    "q_values2_0('guardian')"
   ]
  },
  {
   "cell_type": "markdown",
   "id": "5ff2fd58",
   "metadata": {},
   "source": [
    "Пропуски в норме. В основном мамы занимаются детьми, но математика ближе же отцам?"
   ]
  },
  {
   "cell_type": "raw",
   "id": "fd9859ad",
   "metadata": {},
   "source": [
    "12 traveltime — время в пути до школы (1 - <15 мин., 2 - 15-30 мин., 3 - 30-60 мин., 4 - >60 мин.)"
   ]
  },
  {
   "cell_type": "code",
   "execution_count": 18,
   "id": "4f3820a9",
   "metadata": {},
   "outputs": [
    {
     "data": {
      "text/plain": [
       "count    367.000000\n",
       "mean       1.438692\n",
       "std        0.694181\n",
       "min        1.000000\n",
       "25%        1.000000\n",
       "50%        1.000000\n",
       "75%        2.000000\n",
       "max        4.000000\n",
       "Name: traveltime, dtype: float64"
      ]
     },
     "metadata": {},
     "output_type": "display_data"
    },
    {
     "data": {
      "text/plain": [
       "1.0    242\n",
       "2.0     96\n",
       "3.0     22\n",
       "4.0      7\n",
       "Name: traveltime, dtype: int64"
      ]
     },
     "metadata": {},
     "output_type": "display_data"
    },
    {
     "name": "stdout",
     "output_type": "stream",
     "text": [
      "<class 'pandas.core.frame.DataFrame'>\n",
      "RangeIndex: 395 entries, 0 to 394\n",
      "Data columns (total 1 columns):\n",
      " #   Column      Non-Null Count  Dtype  \n",
      "---  ------      --------------  -----  \n",
      " 0   traveltime  367 non-null    float64\n",
      "dtypes: float64(1)\n",
      "memory usage: 3.2 KB\n"
     ]
    },
    {
     "data": {
      "text/plain": [
       "None"
      ]
     },
     "metadata": {},
     "output_type": "display_data"
    },
    {
     "data": {
      "image/png": "[encoded data removed]",
      "text/plain": [
       "<Figure size 432x288 with 1 Axes>"
      ]
     },
     "metadata": {
      "needs_background": "light"
     },
     "output_type": "display_data"
    }
   ],
   "source": [
    "numeric_info('traveltime')"
   ]
  },
  {
   "cell_type": "markdown",
   "id": "a8cad779",
   "metadata": {},
   "source": [
    "Примерно у каждого 11-го ученика дорога до школы и обратно может занимаь более часа в день.\n",
    "Возможно кому то долгая прогулка перед школой поможет проснуться, но надо проверить насколько релевантный показатель будет к сравнению с успеваймостью."
   ]
  },
  {
   "cell_type": "raw",
   "id": "ffb0b5ab",
   "metadata": {},
   "source": [
    "13 studytime — время на учёбу помимо школы в неделю (1 - <2 часов, 2 - 2-5 часов, 3 - 5-10 часов, 4 - >10 часов)"
   ]
  },
  {
   "cell_type": "code",
   "execution_count": 19,
   "id": "cadcb605",
   "metadata": {},
   "outputs": [
    {
     "data": {
      "text/plain": [
       "count    388.000000\n",
       "mean       2.038660\n",
       "std        0.842078\n",
       "min        1.000000\n",
       "25%        1.000000\n",
       "50%        2.000000\n",
       "75%        2.000000\n",
       "max        4.000000\n",
       "Name: studytime, dtype: float64"
      ]
     },
     "metadata": {},
     "output_type": "display_data"
    },
    {
     "data": {
      "text/plain": [
       "2.0    194\n",
       "1.0    103\n",
       "3.0     64\n",
       "4.0     27\n",
       "Name: studytime, dtype: int64"
      ]
     },
     "metadata": {},
     "output_type": "display_data"
    },
    {
     "name": "stdout",
     "output_type": "stream",
     "text": [
      "<class 'pandas.core.frame.DataFrame'>\n",
      "RangeIndex: 395 entries, 0 to 394\n",
      "Data columns (total 1 columns):\n",
      " #   Column     Non-Null Count  Dtype  \n",
      "---  ------     --------------  -----  \n",
      " 0   studytime  388 non-null    float64\n",
      "dtypes: float64(1)\n",
      "memory usage: 3.2 KB\n"
     ]
    },
    {
     "data": {
      "text/plain": [
       "None"
      ]
     },
     "metadata": {},
     "output_type": "display_data"
    },
    {
     "data": {
      "image/png": "[encoded data removed]",
      "text/plain": [
       "<Figure size 432x288 with 1 Axes>"
      ]
     },
     "metadata": {
      "needs_background": "light"
     },
     "output_type": "display_data"
    }
   ],
   "source": [
    "numeric_info('studytime')"
   ]
  },
  {
   "cell_type": "markdown",
   "id": "a94e3e52",
   "metadata": {},
   "source": [
    "75% учеников не уделяют внеурочно учебе более 5ч в неделю. Предпологаю этот показатель будет сильно влиять на успеваемость. Пропусков почти нет."
   ]
  },
  {
   "cell_type": "raw",
   "id": "673d5842",
   "metadata": {},
   "source": [
    "14 failures — количество внеучебных неудач (n, если 1<=n<=3, иначе 0)"
   ]
  },
  {
   "cell_type": "code",
   "execution_count": 20,
   "id": "31b7a5ef",
   "metadata": {},
   "outputs": [
    {
     "data": {
      "text/plain": [
       "count    373.000000\n",
       "mean       0.337802\n",
       "std        0.743135\n",
       "min        0.000000\n",
       "25%        0.000000\n",
       "50%        0.000000\n",
       "75%        0.000000\n",
       "max        3.000000\n",
       "Name: failures, dtype: float64"
      ]
     },
     "metadata": {},
     "output_type": "display_data"
    },
    {
     "data": {
      "text/plain": [
       "0.0    293\n",
       "1.0     49\n",
       "2.0     16\n",
       "3.0     15\n",
       "Name: failures, dtype: int64"
      ]
     },
     "metadata": {},
     "output_type": "display_data"
    },
    {
     "name": "stdout",
     "output_type": "stream",
     "text": [
      "<class 'pandas.core.frame.DataFrame'>\n",
      "RangeIndex: 395 entries, 0 to 394\n",
      "Data columns (total 1 columns):\n",
      " #   Column    Non-Null Count  Dtype  \n",
      "---  ------    --------------  -----  \n",
      " 0   failures  373 non-null    float64\n",
      "dtypes: float64(1)\n",
      "memory usage: 3.2 KB\n"
     ]
    },
    {
     "data": {
      "text/plain": [
       "None"
      ]
     },
     "metadata": {},
     "output_type": "display_data"
    },
    {
     "data": {
      "image/png": "[encoded data removed]",
      "text/plain": [
       "<Figure size 432x288 with 1 Axes>"
      ]
     },
     "metadata": {
      "needs_background": "light"
     },
     "output_type": "display_data"
    }
   ],
   "source": [
    "numeric_info('failures')"
   ]
  },
  {
   "cell_type": "markdown",
   "id": "f638f758",
   "metadata": {},
   "source": [
    "Предпологаю, что данные не релевантны. Тут сливаются разные категории - школьники с большим кол-вом неудачь и ученики, у кого их нет. Если исключить значения, кроме 1,2,3 - то будет слишком много пропусков, далее исключим серию из анализа."
   ]
  },
  {
   "cell_type": "raw",
   "id": "ff41be82",
   "metadata": {},
   "source": [
    "15 schoolsup — дополнительная образовательная поддержка (yes или no)"
   ]
  },
  {
   "cell_type": "code",
   "execution_count": 21,
   "id": "b0b396e5",
   "metadata": {},
   "outputs": [
    {
     "data": {
      "text/plain": [
       "no     335\n",
       "yes     51\n",
       "Name: schoolsup, dtype: int64"
      ]
     },
     "metadata": {},
     "output_type": "display_data"
    },
    {
     "name": "stdout",
     "output_type": "stream",
     "text": [
      "<class 'pandas.core.frame.DataFrame'>\n",
      "RangeIndex: 395 entries, 0 to 394\n",
      "Data columns (total 1 columns):\n",
      " #   Column     Non-Null Count  Dtype \n",
      "---  ------     --------------  ----- \n",
      " 0   schoolsup  386 non-null    object\n",
      "dtypes: object(1)\n",
      "memory usage: 3.2+ KB\n"
     ]
    }
   ],
   "source": [
    "q_values2_0('schoolsup')"
   ]
  },
  {
   "cell_type": "markdown",
   "id": "1ec3ec52",
   "metadata": {},
   "source": [
    "Большинство обходится без доп поддержки. Скорее всего ученики, кто к ее имеет - будут более успешными, нежели те, к кому они не обращаются."
   ]
  },
  {
   "cell_type": "raw",
   "id": "410717a9",
   "metadata": {},
   "source": [
    "16 famsup — семейная образовательная поддержка (yes или no)"
   ]
  },
  {
   "cell_type": "code",
   "execution_count": 22,
   "id": "4bc530be",
   "metadata": {},
   "outputs": [
    {
     "data": {
      "text/plain": [
       "yes    219\n",
       "no     137\n",
       "Name: famsup, dtype: int64"
      ]
     },
     "metadata": {},
     "output_type": "display_data"
    },
    {
     "name": "stdout",
     "output_type": "stream",
     "text": [
      "<class 'pandas.core.frame.DataFrame'>\n",
      "RangeIndex: 395 entries, 0 to 394\n",
      "Data columns (total 1 columns):\n",
      " #   Column  Non-Null Count  Dtype \n",
      "---  ------  --------------  ----- \n",
      " 0   famsup  356 non-null    object\n",
      "dtypes: object(1)\n",
      "memory usage: 3.2+ KB\n"
     ]
    }
   ],
   "source": [
    "q_values2_0('famsup')"
   ]
  },
  {
   "cell_type": "markdown",
   "id": "13de9f25",
   "metadata": {},
   "source": [
    "Так же предположительно важный показатель. Пропусков не мало, но оставим столбец для изучения."
   ]
  },
  {
   "cell_type": "raw",
   "id": "9f959b2d",
   "metadata": {},
   "source": [
    "17 paid — дополнительные платные занятия по математике (yes или no)"
   ]
  },
  {
   "cell_type": "code",
   "execution_count": 23,
   "id": "0a9f5574",
   "metadata": {},
   "outputs": [
    {
     "data": {
      "text/plain": [
       "no     200\n",
       "yes    155\n",
       "Name: paid, dtype: int64"
      ]
     },
     "metadata": {},
     "output_type": "display_data"
    },
    {
     "name": "stdout",
     "output_type": "stream",
     "text": [
      "<class 'pandas.core.frame.DataFrame'>\n",
      "RangeIndex: 395 entries, 0 to 394\n",
      "Data columns (total 1 columns):\n",
      " #   Column  Non-Null Count  Dtype \n",
      "---  ------  --------------  ----- \n",
      " 0   paid    355 non-null    object\n",
      "dtypes: object(1)\n",
      "memory usage: 3.2+ KB\n"
     ]
    }
   ],
   "source": [
    "q_values2_0('paid')"
   ]
  },
  {
   "cell_type": "markdown",
   "id": "1a27fdfc",
   "metadata": {},
   "source": [
    "155 учеников будут иметь больше шансов на хорошие показатели, нежели остальные 200"
   ]
  },
  {
   "cell_type": "raw",
   "id": "d64ce192",
   "metadata": {},
   "source": [
    "18 activities — дополнительные внеучебные занятия (yes или no)"
   ]
  },
  {
   "cell_type": "code",
   "execution_count": 24,
   "id": "00b0d66d",
   "metadata": {},
   "outputs": [
    {
     "data": {
      "text/plain": [
       "yes    195\n",
       "no     186\n",
       "Name: activities, dtype: int64"
      ]
     },
     "metadata": {},
     "output_type": "display_data"
    },
    {
     "name": "stdout",
     "output_type": "stream",
     "text": [
      "<class 'pandas.core.frame.DataFrame'>\n",
      "RangeIndex: 395 entries, 0 to 394\n",
      "Data columns (total 1 columns):\n",
      " #   Column      Non-Null Count  Dtype \n",
      "---  ------      --------------  ----- \n",
      " 0   activities  381 non-null    object\n",
      "dtypes: object(1)\n",
      "memory usage: 3.2+ KB\n"
     ]
    }
   ],
   "source": [
    "q_values2_0('activities')"
   ]
  },
  {
   "cell_type": "markdown",
   "id": "7a21f407",
   "metadata": {},
   "source": [
    "Больше половины имеют занятия, кроме как по учебе."
   ]
  },
  {
   "cell_type": "raw",
   "id": "6a7198d7",
   "metadata": {},
   "source": [
    "19 nursery — посещал детский сад (yes или no)"
   ]
  },
  {
   "cell_type": "code",
   "execution_count": 25,
   "id": "418923b9",
   "metadata": {},
   "outputs": [
    {
     "data": {
      "text/plain": [
       "yes    300\n",
       "no      79\n",
       "Name: nursery, dtype: int64"
      ]
     },
     "metadata": {},
     "output_type": "display_data"
    },
    {
     "name": "stdout",
     "output_type": "stream",
     "text": [
      "<class 'pandas.core.frame.DataFrame'>\n",
      "RangeIndex: 395 entries, 0 to 394\n",
      "Data columns (total 1 columns):\n",
      " #   Column   Non-Null Count  Dtype \n",
      "---  ------   --------------  ----- \n",
      " 0   nursery  379 non-null    object\n",
      "dtypes: object(1)\n",
      "memory usage: 3.2+ KB\n"
     ]
    }
   ],
   "source": [
    "q_values2_0('nursery')"
   ]
  },
  {
   "cell_type": "markdown",
   "id": "884c106d",
   "metadata": {},
   "source": [
    "Возможно показатель не будет сильно коррелировать с успеваемостью в школе. Скорее всего дети, кто не учился в садике - находились дома и обучались с родителями"
   ]
  },
  {
   "cell_type": "raw",
   "id": "1c9d677b",
   "metadata": {},
   "source": [
    "20 higher — хочет получить высшее образование (yes или no)"
   ]
  },
  {
   "cell_type": "code",
   "execution_count": 26,
   "id": "9ed26111",
   "metadata": {},
   "outputs": [
    {
     "data": {
      "text/plain": [
       "yes    356\n",
       "no      19\n",
       "Name: higher, dtype: int64"
      ]
     },
     "metadata": {},
     "output_type": "display_data"
    },
    {
     "name": "stdout",
     "output_type": "stream",
     "text": [
      "<class 'pandas.core.frame.DataFrame'>\n",
      "RangeIndex: 395 entries, 0 to 394\n",
      "Data columns (total 1 columns):\n",
      " #   Column  Non-Null Count  Dtype \n",
      "---  ------  --------------  ----- \n",
      " 0   higher  375 non-null    object\n",
      "dtypes: object(1)\n",
      "memory usage: 3.2+ KB\n"
     ]
    }
   ],
   "source": [
    "q_values2_0('higher')"
   ]
  },
  {
   "cell_type": "markdown",
   "id": "543807a5",
   "metadata": {},
   "source": [
    "Большинство хочет получить высшее образование. Предполагаю, что те кто нет - имеют слабые показатели."
   ]
  },
  {
   "cell_type": "raw",
   "id": "2b512083",
   "metadata": {},
   "source": [
    "21 internet — наличие интернета дома (yes или no)"
   ]
  },
  {
   "cell_type": "code",
   "execution_count": 27,
   "id": "a2bc6562",
   "metadata": {
    "scrolled": true
   },
   "outputs": [
    {
     "data": {
      "text/plain": [
       "yes    305\n",
       "no      56\n",
       "Name: internet, dtype: int64"
      ]
     },
     "metadata": {},
     "output_type": "display_data"
    },
    {
     "name": "stdout",
     "output_type": "stream",
     "text": [
      "<class 'pandas.core.frame.DataFrame'>\n",
      "RangeIndex: 395 entries, 0 to 394\n",
      "Data columns (total 1 columns):\n",
      " #   Column    Non-Null Count  Dtype \n",
      "---  ------    --------------  ----- \n",
      " 0   internet  361 non-null    object\n",
      "dtypes: object(1)\n",
      "memory usage: 3.2+ KB\n"
     ]
    }
   ],
   "source": [
    "q_values2_0('internet')"
   ]
  },
  {
   "cell_type": "markdown",
   "id": "1c473806",
   "metadata": {},
   "source": [
    "Интернет может как помогать, так и мешать детям в контексте учебы"
   ]
  },
  {
   "cell_type": "raw",
   "id": "c772b82f",
   "metadata": {},
   "source": [
    "22 romantic — в романтических отношениях (yes или no)"
   ]
  },
  {
   "cell_type": "code",
   "execution_count": 28,
   "id": "fe7db27a",
   "metadata": {},
   "outputs": [
    {
     "data": {
      "text/plain": [
       "no     240\n",
       "yes    124\n",
       "Name: romantic, dtype: int64"
      ]
     },
     "metadata": {},
     "output_type": "display_data"
    },
    {
     "name": "stdout",
     "output_type": "stream",
     "text": [
      "<class 'pandas.core.frame.DataFrame'>\n",
      "RangeIndex: 395 entries, 0 to 394\n",
      "Data columns (total 1 columns):\n",
      " #   Column    Non-Null Count  Dtype \n",
      "---  ------    --------------  ----- \n",
      " 0   romantic  364 non-null    object\n",
      "dtypes: object(1)\n",
      "memory usage: 3.2+ KB\n"
     ]
    }
   ],
   "source": [
    "q_values2_0('romantic')"
   ]
  },
  {
   "cell_type": "markdown",
   "id": "d36a4edd",
   "metadata": {},
   "source": [
    "Мне кажется не релевантным информация по отношению к успеваемости, но посмотрим далее."
   ]
  },
  {
   "cell_type": "raw",
   "id": "1763643f",
   "metadata": {},
   "source": [
    "23 famrel — семейные отношения (от 1 - очень плохо до 5 - очень хорошо)"
   ]
  },
  {
   "cell_type": "code",
   "execution_count": 29,
   "id": "cb364987",
   "metadata": {},
   "outputs": [
    {
     "data": {
      "text/plain": [
       "count    368.000000\n",
       "mean       3.937500\n",
       "std        0.927277\n",
       "min       -1.000000\n",
       "25%        4.000000\n",
       "50%        4.000000\n",
       "75%        5.000000\n",
       "max        5.000000\n",
       "Name: famrel, dtype: float64"
      ]
     },
     "metadata": {},
     "output_type": "display_data"
    },
    {
     "data": {
      "text/plain": [
       " 4.0    182\n",
       " 5.0     99\n",
       " 3.0     62\n",
       " 2.0     17\n",
       " 1.0      7\n",
       "-1.0      1\n",
       "Name: famrel, dtype: int64"
      ]
     },
     "metadata": {},
     "output_type": "display_data"
    },
    {
     "name": "stdout",
     "output_type": "stream",
     "text": [
      "<class 'pandas.core.frame.DataFrame'>\n",
      "RangeIndex: 395 entries, 0 to 394\n",
      "Data columns (total 1 columns):\n",
      " #   Column  Non-Null Count  Dtype  \n",
      "---  ------  --------------  -----  \n",
      " 0   famrel  368 non-null    float64\n",
      "dtypes: float64(1)\n",
      "memory usage: 3.2 KB\n"
     ]
    },
    {
     "data": {
      "text/plain": [
       "None"
      ]
     },
     "metadata": {},
     "output_type": "display_data"
    },
    {
     "data": {
      "image/png": "[encoded data removed]",
      "text/plain": [
       "<Figure size 432x288 with 1 Axes>"
      ]
     },
     "metadata": {
      "needs_background": "light"
     },
     "output_type": "display_data"
    }
   ],
   "source": [
    "numeric_info('famrel')"
   ]
  },
  {
   "cell_type": "markdown",
   "id": "15ecd0b8",
   "metadata": {},
   "source": [
    "Исходя из анализа видно, что мы имеем вброс с занчинием \"-1\" - избивмся от него."
   ]
  },
  {
   "cell_type": "code",
   "execution_count": 30,
   "id": "0bf4f1f6",
   "metadata": {},
   "outputs": [
    {
     "data": {
      "text/plain": [
       "<AxesSubplot:>"
      ]
     },
     "execution_count": 30,
     "metadata": {},
     "output_type": "execute_result"
    },
    {
     "data": {
      "image/png": "[encoded data removed]",
      "text/plain": [
       "<Figure size 432x288 with 1 Axes>"
      ]
     },
     "metadata": {
      "needs_background": "light"
     },
     "output_type": "display_data"
    }
   ],
   "source": [
    "df['famrel'] = df['famrel'].apply(lambda x: None if x < 1 else x)\n",
    "df['famrel'].hist(bins = 5, grid = False) # Проверим "
   ]
  },
  {
   "cell_type": "markdown",
   "id": "ad673394",
   "metadata": {},
   "source": [
    "Только 6% учеников имеют плохие семейные отношения. Показатель может влиять на успеваемость"
   ]
  },
  {
   "cell_type": "raw",
   "id": "188029b3",
   "metadata": {},
   "source": [
    "24 freetime — свободное время после школы (от 1 - очень мало до 5 - очень мого)"
   ]
  },
  {
   "cell_type": "code",
   "execution_count": 31,
   "id": "ef072859",
   "metadata": {},
   "outputs": [
    {
     "data": {
      "text/plain": [
       "count    384.000000\n",
       "mean       3.231771\n",
       "std        0.993940\n",
       "min        1.000000\n",
       "25%        3.000000\n",
       "50%        3.000000\n",
       "75%        4.000000\n",
       "max        5.000000\n",
       "Name: freetime, dtype: float64"
      ]
     },
     "metadata": {},
     "output_type": "display_data"
    },
    {
     "data": {
      "text/plain": [
       "3.0    153\n",
       "4.0    112\n",
       "2.0     63\n",
       "5.0     38\n",
       "1.0     18\n",
       "Name: freetime, dtype: int64"
      ]
     },
     "metadata": {},
     "output_type": "display_data"
    },
    {
     "name": "stdout",
     "output_type": "stream",
     "text": [
      "<class 'pandas.core.frame.DataFrame'>\n",
      "RangeIndex: 395 entries, 0 to 394\n",
      "Data columns (total 1 columns):\n",
      " #   Column    Non-Null Count  Dtype  \n",
      "---  ------    --------------  -----  \n",
      " 0   freetime  384 non-null    float64\n",
      "dtypes: float64(1)\n",
      "memory usage: 3.2 KB\n"
     ]
    },
    {
     "data": {
      "text/plain": [
       "None"
      ]
     },
     "metadata": {},
     "output_type": "display_data"
    },
    {
     "data": {
      "image/png": "[encoded data removed]",
      "text/plain": [
       "<Figure size 432x288 with 1 Axes>"
      ]
     },
     "metadata": {
      "needs_background": "light"
     },
     "output_type": "display_data"
    }
   ],
   "source": [
    "numeric_info('freetime')"
   ]
  },
  {
   "cell_type": "markdown",
   "id": "3fadd52f",
   "metadata": {},
   "source": [
    "Большинство детей успевают отдохнуть после школы."
   ]
  },
  {
   "cell_type": "raw",
   "id": "70c6a154",
   "metadata": {},
   "source": [
    "25 goout — проведение времени с друзьями (от 1 - очень мало до 5 - очень много)"
   ]
  },
  {
   "cell_type": "code",
   "execution_count": 32,
   "id": "9036e579",
   "metadata": {},
   "outputs": [
    {
     "data": {
      "text/plain": [
       "count    387.000000\n",
       "mean       3.105943\n",
       "std        1.115896\n",
       "min        1.000000\n",
       "25%        2.000000\n",
       "50%        3.000000\n",
       "75%        4.000000\n",
       "max        5.000000\n",
       "Name: goout, dtype: float64"
      ]
     },
     "metadata": {},
     "output_type": "display_data"
    },
    {
     "data": {
      "text/plain": [
       "3.0    127\n",
       "2.0    101\n",
       "4.0     84\n",
       "5.0     52\n",
       "1.0     23\n",
       "Name: goout, dtype: int64"
      ]
     },
     "metadata": {},
     "output_type": "display_data"
    },
    {
     "name": "stdout",
     "output_type": "stream",
     "text": [
      "<class 'pandas.core.frame.DataFrame'>\n",
      "RangeIndex: 395 entries, 0 to 394\n",
      "Data columns (total 1 columns):\n",
      " #   Column  Non-Null Count  Dtype  \n",
      "---  ------  --------------  -----  \n",
      " 0   goout   387 non-null    float64\n",
      "dtypes: float64(1)\n",
      "memory usage: 3.2 KB\n"
     ]
    },
    {
     "data": {
      "text/plain": [
       "None"
      ]
     },
     "metadata": {},
     "output_type": "display_data"
    },
    {
     "data": {
      "image/png": "[encoded data removed]",
      "text/plain": [
       "<Figure size 432x288 with 1 Axes>"
      ]
     },
     "metadata": {
      "needs_background": "light"
     },
     "output_type": "display_data"
    }
   ],
   "source": [
    "numeric_info('goout')"
   ]
  },
  {
   "cell_type": "markdown",
   "id": "f4d953db",
   "metadata": {},
   "source": [
    "В основном дети много уделяют время дружбе. Чем больше, тем меньше учебе."
   ]
  },
  {
   "cell_type": "raw",
   "id": "20501735",
   "metadata": {},
   "source": [
    "26 health — текущее состояние здоровья (от 1 - очень плохо до 5 - очень хорошо)"
   ]
  },
  {
   "cell_type": "code",
   "execution_count": 33,
   "id": "0c736c55",
   "metadata": {},
   "outputs": [
    {
     "data": {
      "text/plain": [
       "count    380.000000\n",
       "mean       3.531579\n",
       "std        1.396019\n",
       "min        1.000000\n",
       "25%        3.000000\n",
       "50%        4.000000\n",
       "75%        5.000000\n",
       "max        5.000000\n",
       "Name: health, dtype: float64"
      ]
     },
     "metadata": {},
     "output_type": "display_data"
    },
    {
     "data": {
      "text/plain": [
       "5.0    138\n",
       "3.0     89\n",
       "4.0     63\n",
       "1.0     47\n",
       "2.0     43\n",
       "Name: health, dtype: int64"
      ]
     },
     "metadata": {},
     "output_type": "display_data"
    },
    {
     "name": "stdout",
     "output_type": "stream",
     "text": [
      "<class 'pandas.core.frame.DataFrame'>\n",
      "RangeIndex: 395 entries, 0 to 394\n",
      "Data columns (total 1 columns):\n",
      " #   Column  Non-Null Count  Dtype  \n",
      "---  ------  --------------  -----  \n",
      " 0   health  380 non-null    float64\n",
      "dtypes: float64(1)\n",
      "memory usage: 3.2 KB\n"
     ]
    },
    {
     "data": {
      "text/plain": [
       "None"
      ]
     },
     "metadata": {},
     "output_type": "display_data"
    },
    {
     "data": {
      "image/png": "[encoded data removed]",
      "text/plain": [
       "<Figure size 432x288 with 1 Axes>"
      ]
     },
     "metadata": {
      "needs_background": "light"
     },
     "output_type": "display_data"
    }
   ],
   "source": [
    "numeric_info('health')"
   ]
  },
  {
   "cell_type": "markdown",
   "id": "c10330e1",
   "metadata": {},
   "source": [
    "Более 75% учеников имеют удовлетворительное состояние здоровье. 12% имеют плохое состояние - скорее всего это скажется на их успеваемости"
   ]
  },
  {
   "cell_type": "raw",
   "id": "c39d5115",
   "metadata": {},
   "source": [
    "27 absences — количество пропущенных занятий"
   ]
  },
  {
   "cell_type": "code",
   "execution_count": 34,
   "id": "29e3d233",
   "metadata": {},
   "outputs": [
    {
     "data": {
      "text/plain": [
       "count    383.000000\n",
       "mean       7.279373\n",
       "std       23.465197\n",
       "min        0.000000\n",
       "25%        0.000000\n",
       "50%        4.000000\n",
       "75%        8.000000\n",
       "max      385.000000\n",
       "Name: absences, dtype: float64"
      ]
     },
     "metadata": {},
     "output_type": "display_data"
    },
    {
     "data": {
      "text/plain": [
       "0.0      111\n",
       "2.0       60\n",
       "4.0       53\n",
       "6.0       31\n",
       "8.0       21\n",
       "10.0      17\n",
       "14.0      12\n",
       "12.0      12\n",
       "3.0        8\n",
       "16.0       7\n",
       "7.0        6\n",
       "18.0       5\n",
       "5.0        5\n",
       "20.0       4\n",
       "9.0        3\n",
       "22.0       3\n",
       "1.0        3\n",
       "13.0       2\n",
       "15.0       2\n",
       "11.0       2\n",
       "40.0       1\n",
       "38.0       1\n",
       "56.0       1\n",
       "23.0       1\n",
       "24.0       1\n",
       "25.0       1\n",
       "385.0      1\n",
       "17.0       1\n",
       "75.0       1\n",
       "21.0       1\n",
       "212.0      1\n",
       "28.0       1\n",
       "19.0       1\n",
       "26.0       1\n",
       "30.0       1\n",
       "54.0       1\n",
       "Name: absences, dtype: int64"
      ]
     },
     "metadata": {},
     "output_type": "display_data"
    },
    {
     "name": "stdout",
     "output_type": "stream",
     "text": [
      "<class 'pandas.core.frame.DataFrame'>\n",
      "RangeIndex: 395 entries, 0 to 394\n",
      "Data columns (total 1 columns):\n",
      " #   Column    Non-Null Count  Dtype  \n",
      "---  ------    --------------  -----  \n",
      " 0   absences  383 non-null    float64\n",
      "dtypes: float64(1)\n",
      "memory usage: 3.2 KB\n"
     ]
    },
    {
     "data": {
      "text/plain": [
       "None"
      ]
     },
     "metadata": {},
     "output_type": "display_data"
    },
    {
     "data": {
      "image/png": "[encoded data removed]",
      "text/plain": [
       "<Figure size 432x288 with 1 Axes>"
      ]
     },
     "metadata": {
      "needs_background": "light"
     },
     "output_type": "display_data"
    }
   ],
   "source": [
    "numeric_info('absences')"
   ]
  },
  {
   "cell_type": "markdown",
   "id": "55eaf4b9",
   "metadata": {},
   "source": [
    "На этом этапе мы обнаружили потенциальные вбросы. Применим функцию, актулизируем значения."
   ]
  },
  {
   "cell_type": "code",
   "execution_count": 35,
   "id": "0f5c752d",
   "metadata": {},
   "outputs": [
    {
     "name": "stdout",
     "output_type": "stream",
     "text": [
      "25-й перцентиль: 0.0, 75-й перцентиль: 8.0, IQR: 8.0,  Границы выбросов: [-12.0, 20.0].\n",
      "\n",
      "Избавляемся от выбросов учитывая найденные границы.\n"
     ]
    },
    {
     "data": {
      "image/png": "[encoded data removed]",
      "text/plain": [
       "<Figure size 432x288 with 1 Axes>"
      ]
     },
     "metadata": {
      "needs_background": "light"
     },
     "output_type": "display_data"
    }
   ],
   "source": [
    "non_relevat_values('absences')"
   ]
  },
  {
   "cell_type": "markdown",
   "id": "2b75010e",
   "metadata": {},
   "source": [
    "Большинство детей не имеют пропусков или очень маленькое кол-во. Скорее всего длинные прогулы будут уменьшать успеваемость"
   ]
  },
  {
   "cell_type": "raw",
   "id": "a7601f46",
   "metadata": {},
   "source": [
    "28 score — баллы по госэкзамену по математике"
   ]
  },
  {
   "cell_type": "code",
   "execution_count": 36,
   "id": "e2bb7c87",
   "metadata": {},
   "outputs": [
    {
     "data": {
      "text/plain": [
       "count    389.000000\n",
       "mean      52.262211\n",
       "std       22.919022\n",
       "min        0.000000\n",
       "25%       40.000000\n",
       "50%       55.000000\n",
       "75%       70.000000\n",
       "max      100.000000\n",
       "Name: score, dtype: float64"
      ]
     },
     "metadata": {},
     "output_type": "display_data"
    },
    {
     "data": {
      "text/plain": [
       "50.0     54\n",
       "55.0     46\n",
       "0.0      37\n",
       "75.0     33\n",
       "65.0     31\n",
       "60.0     31\n",
       "40.0     31\n",
       "45.0     27\n",
       "70.0     27\n",
       "80.0     16\n",
       "30.0     15\n",
       "90.0     12\n",
       "35.0      9\n",
       "25.0      7\n",
       "85.0      6\n",
       "95.0      5\n",
       "20.0      1\n",
       "100.0     1\n",
       "Name: score, dtype: int64"
      ]
     },
     "metadata": {},
     "output_type": "display_data"
    },
    {
     "name": "stdout",
     "output_type": "stream",
     "text": [
      "<class 'pandas.core.frame.DataFrame'>\n",
      "RangeIndex: 395 entries, 0 to 394\n",
      "Data columns (total 1 columns):\n",
      " #   Column  Non-Null Count  Dtype  \n",
      "---  ------  --------------  -----  \n",
      " 0   score   389 non-null    float64\n",
      "dtypes: float64(1)\n",
      "memory usage: 3.2 KB\n"
     ]
    },
    {
     "data": {
      "text/plain": [
       "None"
      ]
     },
     "metadata": {},
     "output_type": "display_data"
    },
    {
     "data": {
      "image/png": "[encoded data removed]",
      "text/plain": [
       "<Figure size 432x288 with 1 Axes>"
      ]
     },
     "metadata": {
      "needs_background": "light"
     },
     "output_type": "display_data"
    }
   ],
   "source": [
    "numeric_info('score')"
   ]
  },
  {
   "cell_type": "markdown",
   "id": "53b3169b",
   "metadata": {},
   "source": [
    "Очень большой показатель учеников, ктоне набрал ни 1 балла. Не плохо было бы выяснить с чем это связано."
   ]
  },
  {
   "cell_type": "markdown",
   "id": "33888cc0",
   "metadata": {},
   "source": [
    "# Рассмотрим кореляцию между числовыми переменными"
   ]
  },
  {
   "cell_type": "code",
   "execution_count": 37,
   "id": "dce0ba42",
   "metadata": {},
   "outputs": [],
   "source": [
    "df2 = df.copy() # Создадим копию массива для анализа"
   ]
  },
  {
   "cell_type": "code",
   "execution_count": 38,
   "id": "4bed37de",
   "metadata": {},
   "outputs": [
    {
     "data": {
      "text/html": [
       "<div>\n",
       "<style scoped>\n",
       "    .dataframe tbody tr th:only-of-type {\n",
       "        vertical-align: middle;\n",
       "    }\n",
       "\n",
       "    .dataframe tbody tr th {\n",
       "        vertical-align: top;\n",
       "    }\n",
       "\n",
       "    .dataframe thead th {\n",
       "        text-align: right;\n",
       "    }\n",
       "</style>\n",
       "<table border=\"1\" class=\"dataframe\">\n",
       "  <thead>\n",
       "    <tr style=\"text-align: right;\">\n",
       "      <th></th>\n",
       "      <th>age</th>\n",
       "      <th>Medu</th>\n",
       "      <th>Fedu</th>\n",
       "      <th>traveltime</th>\n",
       "      <th>studytime</th>\n",
       "      <th>failures</th>\n",
       "      <th>studytime, granular</th>\n",
       "      <th>famrel</th>\n",
       "      <th>freetime</th>\n",
       "      <th>goout</th>\n",
       "      <th>health</th>\n",
       "      <th>absences</th>\n",
       "      <th>score</th>\n",
       "    </tr>\n",
       "  </thead>\n",
       "  <tbody>\n",
       "    <tr>\n",
       "      <th>age</th>\n",
       "      <td>1.000000</td>\n",
       "      <td>-0.161704</td>\n",
       "      <td>-0.159546</td>\n",
       "      <td>0.081508</td>\n",
       "      <td>-0.015556</td>\n",
       "      <td>0.228047</td>\n",
       "      <td>0.015556</td>\n",
       "      <td>0.063539</td>\n",
       "      <td>0.029023</td>\n",
       "      <td>0.135107</td>\n",
       "      <td>-0.065946</td>\n",
       "      <td>0.151493</td>\n",
       "      <td>-0.155726</td>\n",
       "    </tr>\n",
       "    <tr>\n",
       "      <th>Medu</th>\n",
       "      <td>-0.161704</td>\n",
       "      <td>1.000000</td>\n",
       "      <td>0.629956</td>\n",
       "      <td>-0.173515</td>\n",
       "      <td>0.078589</td>\n",
       "      <td>-0.245463</td>\n",
       "      <td>-0.078589</td>\n",
       "      <td>-0.020896</td>\n",
       "      <td>0.025335</td>\n",
       "      <td>0.064164</td>\n",
       "      <td>-0.045051</td>\n",
       "      <td>0.065712</td>\n",
       "      <td>0.213349</td>\n",
       "    </tr>\n",
       "    <tr>\n",
       "      <th>Fedu</th>\n",
       "      <td>-0.159546</td>\n",
       "      <td>0.629956</td>\n",
       "      <td>1.000000</td>\n",
       "      <td>-0.155459</td>\n",
       "      <td>0.008603</td>\n",
       "      <td>-0.271936</td>\n",
       "      <td>-0.008603</td>\n",
       "      <td>-0.035788</td>\n",
       "      <td>-0.021415</td>\n",
       "      <td>0.046581</td>\n",
       "      <td>0.022588</td>\n",
       "      <td>-0.021415</td>\n",
       "      <td>0.130002</td>\n",
       "    </tr>\n",
       "    <tr>\n",
       "      <th>traveltime</th>\n",
       "      <td>0.081508</td>\n",
       "      <td>-0.173515</td>\n",
       "      <td>-0.155459</td>\n",
       "      <td>1.000000</td>\n",
       "      <td>-0.102206</td>\n",
       "      <td>0.064699</td>\n",
       "      <td>0.102206</td>\n",
       "      <td>-0.028220</td>\n",
       "      <td>-0.021937</td>\n",
       "      <td>0.037636</td>\n",
       "      <td>-0.021531</td>\n",
       "      <td>-0.047995</td>\n",
       "      <td>-0.070559</td>\n",
       "    </tr>\n",
       "    <tr>\n",
       "      <th>studytime</th>\n",
       "      <td>-0.015556</td>\n",
       "      <td>0.078589</td>\n",
       "      <td>0.008603</td>\n",
       "      <td>-0.102206</td>\n",
       "      <td>1.000000</td>\n",
       "      <td>-0.178992</td>\n",
       "      <td>-1.000000</td>\n",
       "      <td>0.028918</td>\n",
       "      <td>-0.121969</td>\n",
       "      <td>-0.051280</td>\n",
       "      <td>-0.080016</td>\n",
       "      <td>-0.078099</td>\n",
       "      <td>0.115741</td>\n",
       "    </tr>\n",
       "    <tr>\n",
       "      <th>failures</th>\n",
       "      <td>0.228047</td>\n",
       "      <td>-0.245463</td>\n",
       "      <td>-0.271936</td>\n",
       "      <td>0.064699</td>\n",
       "      <td>-0.178992</td>\n",
       "      <td>1.000000</td>\n",
       "      <td>0.178992</td>\n",
       "      <td>0.011942</td>\n",
       "      <td>0.098382</td>\n",
       "      <td>0.120914</td>\n",
       "      <td>0.081284</td>\n",
       "      <td>0.081801</td>\n",
       "      <td>-0.344338</td>\n",
       "    </tr>\n",
       "    <tr>\n",
       "      <th>studytime, granular</th>\n",
       "      <td>0.015556</td>\n",
       "      <td>-0.078589</td>\n",
       "      <td>-0.008603</td>\n",
       "      <td>0.102206</td>\n",
       "      <td>-1.000000</td>\n",
       "      <td>0.178992</td>\n",
       "      <td>1.000000</td>\n",
       "      <td>-0.028918</td>\n",
       "      <td>0.121969</td>\n",
       "      <td>0.051280</td>\n",
       "      <td>0.080016</td>\n",
       "      <td>0.078099</td>\n",
       "      <td>-0.115741</td>\n",
       "    </tr>\n",
       "    <tr>\n",
       "      <th>famrel</th>\n",
       "      <td>0.063539</td>\n",
       "      <td>-0.020896</td>\n",
       "      <td>-0.035788</td>\n",
       "      <td>-0.028220</td>\n",
       "      <td>0.028918</td>\n",
       "      <td>0.011942</td>\n",
       "      <td>-0.028918</td>\n",
       "      <td>1.000000</td>\n",
       "      <td>0.164324</td>\n",
       "      <td>0.069241</td>\n",
       "      <td>0.097910</td>\n",
       "      <td>-0.073509</td>\n",
       "      <td>0.051219</td>\n",
       "    </tr>\n",
       "    <tr>\n",
       "      <th>freetime</th>\n",
       "      <td>0.029023</td>\n",
       "      <td>0.025335</td>\n",
       "      <td>-0.021415</td>\n",
       "      <td>-0.021937</td>\n",
       "      <td>-0.121969</td>\n",
       "      <td>0.098382</td>\n",
       "      <td>0.121969</td>\n",
       "      <td>0.164324</td>\n",
       "      <td>1.000000</td>\n",
       "      <td>0.296437</td>\n",
       "      <td>0.061575</td>\n",
       "      <td>0.093436</td>\n",
       "      <td>0.019026</td>\n",
       "    </tr>\n",
       "    <tr>\n",
       "      <th>goout</th>\n",
       "      <td>0.135107</td>\n",
       "      <td>0.064164</td>\n",
       "      <td>0.046581</td>\n",
       "      <td>0.037636</td>\n",
       "      <td>-0.051280</td>\n",
       "      <td>0.120914</td>\n",
       "      <td>0.051280</td>\n",
       "      <td>0.069241</td>\n",
       "      <td>0.296437</td>\n",
       "      <td>1.000000</td>\n",
       "      <td>-0.015608</td>\n",
       "      <td>0.111587</td>\n",
       "      <td>-0.129685</td>\n",
       "    </tr>\n",
       "    <tr>\n",
       "      <th>health</th>\n",
       "      <td>-0.065946</td>\n",
       "      <td>-0.045051</td>\n",
       "      <td>0.022588</td>\n",
       "      <td>-0.021531</td>\n",
       "      <td>-0.080016</td>\n",
       "      <td>0.081284</td>\n",
       "      <td>0.080016</td>\n",
       "      <td>0.097910</td>\n",
       "      <td>0.061575</td>\n",
       "      <td>-0.015608</td>\n",
       "      <td>1.000000</td>\n",
       "      <td>-0.014358</td>\n",
       "      <td>-0.070460</td>\n",
       "    </tr>\n",
       "    <tr>\n",
       "      <th>absences</th>\n",
       "      <td>0.151493</td>\n",
       "      <td>0.065712</td>\n",
       "      <td>-0.021415</td>\n",
       "      <td>-0.047995</td>\n",
       "      <td>-0.078099</td>\n",
       "      <td>0.081801</td>\n",
       "      <td>0.078099</td>\n",
       "      <td>-0.073509</td>\n",
       "      <td>0.093436</td>\n",
       "      <td>0.111587</td>\n",
       "      <td>-0.014358</td>\n",
       "      <td>1.000000</td>\n",
       "      <td>0.081274</td>\n",
       "    </tr>\n",
       "    <tr>\n",
       "      <th>score</th>\n",
       "      <td>-0.155726</td>\n",
       "      <td>0.213349</td>\n",
       "      <td>0.130002</td>\n",
       "      <td>-0.070559</td>\n",
       "      <td>0.115741</td>\n",
       "      <td>-0.344338</td>\n",
       "      <td>-0.115741</td>\n",
       "      <td>0.051219</td>\n",
       "      <td>0.019026</td>\n",
       "      <td>-0.129685</td>\n",
       "      <td>-0.070460</td>\n",
       "      <td>0.081274</td>\n",
       "      <td>1.000000</td>\n",
       "    </tr>\n",
       "  </tbody>\n",
       "</table>\n",
       "</div>"
      ],
      "text/plain": [
       "                          age      Medu      Fedu  traveltime  studytime  \\\n",
       "age                  1.000000 -0.161704 -0.159546    0.081508  -0.015556   \n",
       "Medu                -0.161704  1.000000  0.629956   -0.173515   0.078589   \n",
       "Fedu                -0.159546  0.629956  1.000000   -0.155459   0.008603   \n",
       "traveltime           0.081508 -0.173515 -0.155459    1.000000  -0.102206   \n",
       "studytime           -0.015556  0.078589  0.008603   -0.102206   1.000000   \n",
       "failures             0.228047 -0.245463 -0.271936    0.064699  -0.178992   \n",
       "studytime, granular  0.015556 -0.078589 -0.008603    0.102206  -1.000000   \n",
       "famrel               0.063539 -0.020896 -0.035788   -0.028220   0.028918   \n",
       "freetime             0.029023  0.025335 -0.021415   -0.021937  -0.121969   \n",
       "goout                0.135107  0.064164  0.046581    0.037636  -0.051280   \n",
       "health              -0.065946 -0.045051  0.022588   -0.021531  -0.080016   \n",
       "absences             0.151493  0.065712 -0.021415   -0.047995  -0.078099   \n",
       "score               -0.155726  0.213349  0.130002   -0.070559   0.115741   \n",
       "\n",
       "                     failures  studytime, granular    famrel  freetime  \\\n",
       "age                  0.228047             0.015556  0.063539  0.029023   \n",
       "Medu                -0.245463            -0.078589 -0.020896  0.025335   \n",
       "Fedu                -0.271936            -0.008603 -0.035788 -0.021415   \n",
       "traveltime           0.064699             0.102206 -0.028220 -0.021937   \n",
       "studytime           -0.178992            -1.000000  0.028918 -0.121969   \n",
       "failures             1.000000             0.178992  0.011942  0.098382   \n",
       "studytime, granular  0.178992             1.000000 -0.028918  0.121969   \n",
       "famrel               0.011942            -0.028918  1.000000  0.164324   \n",
       "freetime             0.098382             0.121969  0.164324  1.000000   \n",
       "goout                0.120914             0.051280  0.069241  0.296437   \n",
       "health               0.081284             0.080016  0.097910  0.061575   \n",
       "absences             0.081801             0.078099 -0.073509  0.093436   \n",
       "score               -0.344338            -0.115741  0.051219  0.019026   \n",
       "\n",
       "                        goout    health  absences     score  \n",
       "age                  0.135107 -0.065946  0.151493 -0.155726  \n",
       "Medu                 0.064164 -0.045051  0.065712  0.213349  \n",
       "Fedu                 0.046581  0.022588 -0.021415  0.130002  \n",
       "traveltime           0.037636 -0.021531 -0.047995 -0.070559  \n",
       "studytime           -0.051280 -0.080016 -0.078099  0.115741  \n",
       "failures             0.120914  0.081284  0.081801 -0.344338  \n",
       "studytime, granular  0.051280  0.080016  0.078099 -0.115741  \n",
       "famrel               0.069241  0.097910 -0.073509  0.051219  \n",
       "freetime             0.296437  0.061575  0.093436  0.019026  \n",
       "goout                1.000000 -0.015608  0.111587 -0.129685  \n",
       "health              -0.015608  1.000000 -0.014358 -0.070460  \n",
       "absences             0.111587 -0.014358  1.000000  0.081274  \n",
       "score               -0.129685 -0.070460  0.081274  1.000000  "
      ]
     },
     "execution_count": 38,
     "metadata": {},
     "output_type": "execute_result"
    }
   ],
   "source": [
    "df2.corr()"
   ]
  },
  {
   "cell_type": "raw",
   "id": "8af77792",
   "metadata": {},
   "source": [
    "Выберем показатели с наименьшей корреляцией с \"score\". Представим их ниже в переменной non_actual"
   ]
  },
  {
   "cell_type": "code",
   "execution_count": 39,
   "id": "6d3a6c4e",
   "metadata": {},
   "outputs": [
    {
     "data": {
      "text/plain": [
       "'Наименне кореллирующими колонками являются:'"
      ]
     },
     "metadata": {},
     "output_type": "display_data"
    },
    {
     "data": {
      "text/plain": [
       "{'traveltime': -0.070559,\n",
       " 'famrel': 0.051219,\n",
       " 'freetime': 0.019026,\n",
       " 'health': -0.07046}"
      ]
     },
     "metadata": {},
     "output_type": "display_data"
    }
   ],
   "source": [
    "    non_actual = {'traveltime' :  -0.070559,\n",
    "              'famrel' : 0.051219,\n",
    "              'freetime' : 0.019026,\n",
    "              'health' : -0.070460,\n",
    "              }\n",
    "display('Наименне кореллирующими колонками являются:', non_actual)\n",
    "non_actual_list = list(non_actual.keys())"
   ]
  },
  {
   "cell_type": "markdown",
   "id": "c4a166a3",
   "metadata": {},
   "source": [
    "Удалим лишние количественные показатели"
   ]
  },
  {
   "cell_type": "code",
   "execution_count": 40,
   "id": "9f8e0f0f",
   "metadata": {},
   "outputs": [],
   "source": [
    "# Слабокорилирующие показатели из датафрейма\n",
    "for x in non_actual_list: \n",
    "    df2.drop([x], inplace = True, axis = 1) \n",
    "\n",
    "# Столбец, который посчитал нерелевантным при первичной обработке\n",
    "df2.drop(['failures'], inplace = True, axis = 1) \n",
    "\n",
    "# \"studytime, granular\", он ровнопротивоположен studytime\n",
    "df2.drop(['studytime, granular'], inplace = True, axis = 1) "
   ]
  },
  {
   "cell_type": "markdown",
   "id": "b6c265b4",
   "metadata": {},
   "source": [
    "Medu и Fedu имеют высокую кореляцию и схожую логическую нагрузку.\n",
    "Предлагаю объединить их в переменную 'Pedu', учитывая, что обе переменные почти не имеют пропусков (чуть более 3% в общем количестве).\n",
    "Заменив None на медианное значение мы практически избежим неточности и насытим наш DF"
   ]
  },
  {
   "cell_type": "code",
   "execution_count": 41,
   "id": "dd4ce5bd",
   "metadata": {},
   "outputs": [],
   "source": [
    "df2.Medu = df2.Medu.fillna(df.Medu.median()) #Земеняем пропуски\n",
    "df2.Fedu = df2.Fedu.fillna(df.Fedu.median())"
   ]
  },
  {
   "cell_type": "code",
   "execution_count": 42,
   "id": "87a32bc7",
   "metadata": {},
   "outputs": [],
   "source": [
    "df3 = df2.copy()\n",
    "df3['Pedu'] = df3['Medu'] + df3['Fedu'] # Сложим показатели \n",
    "df3.drop(['Medu'], inplace = True, axis = 1) # Удалим Medu\n",
    "df3.drop(['Fedu'], inplace = True, axis = 1) # Удалим Fedu"
   ]
  },
  {
   "cell_type": "raw",
   "id": "1cece8af",
   "metadata": {},
   "source": [
    "Визуализируем корреляцию числоых переменных"
   ]
  },
  {
   "cell_type": "code",
   "execution_count": 43,
   "id": "44224dfa",
   "metadata": {},
   "outputs": [
    {
     "data": {
      "text/plain": [
       "Index(['school', 'sex', 'age', 'address', 'famsize', 'Pstatus', 'Mjob', 'Fjob',\n",
       "       'reason', 'guardian', 'studytime', 'schoolsup', 'famsup', 'paid',\n",
       "       'activities', 'nursery', 'higher', 'internet', 'romantic', 'goout',\n",
       "       'absences', 'score', 'Pedu'],\n",
       "      dtype='object')"
      ]
     },
     "execution_count": 43,
     "metadata": {},
     "output_type": "execute_result"
    }
   ],
   "source": [
    "df3.columns"
   ]
  },
  {
   "cell_type": "code",
   "execution_count": 44,
   "id": "7c87091c",
   "metadata": {},
   "outputs": [
    {
     "data": {
      "text/plain": [
       "<seaborn.axisgrid.PairGrid at 0x9801019490>"
      ]
     },
     "execution_count": 44,
     "metadata": {},
     "output_type": "execute_result"
    },
    {
     "data": {
      "image/png": "[encoded data removed]",
      "text/plain": [
       "<Figure size 1080x1080 with 42 Axes>"
      ]
     },
     "metadata": {
      "needs_background": "light"
     },
     "output_type": "display_data"
    }
   ],
   "source": [
    "sns.pairplot(df3, kind = 'reg')"
   ]
  },
  {
   "cell_type": "code",
   "execution_count": 45,
   "id": "4515fc5a",
   "metadata": {},
   "outputs": [],
   "source": [
    "# Выведем интересующие нас для дальнейшего анализа количественные переменные\n",
    "quantitative_variables = ['age', 'studytime', 'goout', 'absences', 'Pedu'] "
   ]
  },
  {
   "cell_type": "markdown",
   "id": "ced0f156",
   "metadata": {},
   "source": [
    "# Анализ номинативных переменных"
   ]
  },
  {
   "cell_type": "code",
   "execution_count": 46,
   "id": "d39af842",
   "metadata": {},
   "outputs": [
    {
     "data": {
      "text/plain": [
       "Index(['school', 'sex', 'age', 'address', 'famsize', 'Pstatus', 'Medu', 'Fedu',\n",
       "       'Mjob', 'Fjob', 'reason', 'guardian', 'studytime', 'schoolsup',\n",
       "       'famsup', 'paid', 'activities', 'nursery', 'higher', 'internet',\n",
       "       'romantic', 'goout', 'absences', 'score'],\n",
       "      dtype='object')"
      ]
     },
     "execution_count": 46,
     "metadata": {},
     "output_type": "execute_result"
    }
   ],
   "source": [
    "df2.columns"
   ]
  },
  {
   "cell_type": "code",
   "execution_count": 47,
   "id": "b3668455",
   "metadata": {},
   "outputs": [],
   "source": [
    "def get_boxplot(column):\n",
    "    fig, ax = plt.subplots(figsize = (5, 5))\n",
    "    sns.boxplot(x=column, y='score', \n",
    "                data=df2,\n",
    "               ax=ax)\n",
    "    plt.xticks(rotation=45)\n",
    "    ax.set_title('Boxplot for ' + column)\n",
    "    plt.show()"
   ]
  },
  {
   "cell_type": "code",
   "execution_count": 48,
   "id": "df89937f",
   "metadata": {},
   "outputs": [
    {
     "data": {
      "image/png": "[encoded data removed]",
      "text/plain": [
       "<Figure size 360x360 with 1 Axes>"
      ]
     },
     "metadata": {
      "needs_background": "light"
     },
     "output_type": "display_data"
    },
    {
     "data": {
      "image/png": "[encoded data removed]",
      "text/plain": [
       "<Figure size 360x360 with 1 Axes>"
      ]
     },
     "metadata": {
      "needs_background": "light"
     },
     "output_type": "display_data"
    },
    {
     "data": {
      "image/png": "[encoded data removed]",
      "text/plain": [
       "<Figure size 360x360 with 1 Axes>"
      ]
     },
     "metadata": {
      "needs_background": "light"
     },
     "output_type": "display_data"
    },
    {
     "data": {
      "image/png": "[encoded data removed]",
      "text/plain": [
       "<Figure size 360x360 with 1 Axes>"
      ]
     },
     "metadata": {
      "needs_background": "light"
     },
     "output_type": "display_data"
    },
    {
     "data": {
      "image/png": "[encoded data removed]",
      "text/plain": [
       "<Figure size 360x360 with 1 Axes>"
      ]
     },
     "metadata": {
      "needs_background": "light"
     },
     "output_type": "display_data"
    },
    {
     "data": {
      "image/png": "[encoded data removed]",
      "text/plain": [
       "<Figure size 360x360 with 1 Axes>"
      ]
     },
     "metadata": {
      "needs_background": "light"
     },
     "output_type": "display_data"
    },
    {
     "data": {
      "image/png": "[encoded data removed]",
      "text/plain": [
       "<Figure size 360x360 with 1 Axes>"
      ]
     },
     "metadata": {
      "needs_background": "light"
     },
     "output_type": "display_data"
    },
    {
     "data": {
      "image/png": "[encoded data removed]",
      "text/plain": [
       "<Figure size 360x360 with 1 Axes>"
      ]
     },
     "metadata": {
      "needs_background": "light"
     },
     "output_type": "display_data"
    },
    {
     "data": {
      "image/png": "[encoded data removed]",
      "text/plain": [
       "<Figure size 360x360 with 1 Axes>"
      ]
     },
     "metadata": {
      "needs_background": "light"
     },
     "output_type": "display_data"
    },
    {
     "data": {
      "image/png": "[encoded data removed]",
      "text/plain": [
       "<Figure size 360x360 with 1 Axes>"
      ]
     },
     "metadata": {
      "needs_background": "light"
     },
     "output_type": "display_data"
    },
    {
     "data": {
      "image/png": "[encoded data removed]",
      "text/plain": [
       "<Figure size 360x360 with 1 Axes>"
      ]
     },
     "metadata": {
      "needs_background": "light"
     },
     "output_type": "display_data"
    },
    {
     "data": {
      "image/png": "[encoded data removed]",
      "text/plain": [
       "<Figure size 360x360 with 1 Axes>"
      ]
     },
     "metadata": {
      "needs_background": "light"
     },
     "output_type": "display_data"
    },
    {
     "data": {
      "image/png": "[encoded data removed]",
      "text/plain": [
       "<Figure size 360x360 with 1 Axes>"
      ]
     },
     "metadata": {
      "needs_background": "light"
     },
     "output_type": "display_data"
    },
    {
     "data": {
      "image/png": "[encoded data removed]",
      "text/plain": [
       "<Figure size 360x360 with 1 Axes>"
      ]
     },
     "metadata": {
      "needs_background": "light"
     },
     "output_type": "display_data"
    },
    {
     "data": {
      "image/png": "[encoded data removed]",
      "text/plain": [
       "<Figure size 360x360 with 1 Axes>"
      ]
     },
     "metadata": {
      "needs_background": "light"
     },
     "output_type": "display_data"
    },
    {
     "data": {
      "image/png": "[encoded data removed]",
      "text/plain": [
       "<Figure size 360x360 with 1 Axes>"
      ]
     },
     "metadata": {
      "needs_background": "light"
     },
     "output_type": "display_data"
    }
   ],
   "source": [
    "for col in ['school', 'sex', 'famsize', 'Pstatus', 'Mjob', 'Fjob',\n",
    "            'reason', 'guardian', 'schoolsup', 'famsup', 'paid', 'activities',\n",
    "            'nursery', 'higher', 'internet', 'romantic']:\n",
    "    get_boxplot(col)"
   ]
  },
  {
   "cell_type": "raw",
   "id": "e90d37fc",
   "metadata": {},
   "source": [
    "Проведем тест Стьюдента"
   ]
  },
  {
   "cell_type": "code",
   "execution_count": 49,
   "id": "e9dac484",
   "metadata": {},
   "outputs": [],
   "source": [
    "def get_stat_dif2_0(column):\n",
    "    cols = df3.loc[:, column].value_counts().index[:10]\n",
    "    combinations_all = list(combinations(cols, 2))\n",
    "    for comb in combinations_all:\n",
    "        if ttest_ind(df3.loc[df3.loc[:, column] == comb[0], 'score'], \n",
    "                        df3.loc[df2.loc[:, column] == comb[1], 'score']).pvalue \\\n",
    "            <= 0.05/len(combinations_all): # Учли поправку Бонферони\n",
    "            print('Найдены статистически значимые различия для колонки', column)"
   ]
  },
  {
   "cell_type": "code",
   "execution_count": 50,
   "id": "d5b4cb26",
   "metadata": {},
   "outputs": [
    {
     "name": "stdout",
     "output_type": "stream",
     "text": [
      "Найдены статистически значимые различия для колонки Mjob\n"
     ]
    }
   ],
   "source": [
    "for col in ['school', 'sex',  'address', 'famsize', 'Pstatus', 'Mjob'\n",
    "            , 'Fjob', 'paid', 'reason', 'guardian', 'schoolsup', 'higher'\n",
    "            , 'internet', 'famsup', 'activities', 'nursery', 'romantic']:         \n",
    "    get_stat_dif2_0(col)"
   ]
  },
  {
   "cell_type": "raw",
   "id": "29059e95",
   "metadata": {},
   "source": [
    "Проведя анализ номинативных переменных исключим пришел к выводу, что переменные не являются интересными для наблюдения.\n",
    "'sex' 'famsize', 'Pstatus', 'famsup', 'activities', 'romantic'"
   ]
  },
  {
   "cell_type": "markdown",
   "id": "c84591c4",
   "metadata": {},
   "source": [
    "Из номинативных переменных выделим несколько и сохраним их в qualitative_variables"
   ]
  },
  {
   "cell_type": "code",
   "execution_count": 51,
   "id": "6c981252",
   "metadata": {},
   "outputs": [],
   "source": [
    "qualitative_variables = ['school', 'Mjob', 'Fjob', 'reason', 'guardian', 'schoolsup', 'higher', 'internet']\n",
    "all_variables = qualitative_variables + quantitative_variables"
   ]
  },
  {
   "cell_type": "markdown",
   "id": "704c002a",
   "metadata": {},
   "source": [
    "# Выводы"
   ]
  },
  {
   "cell_type": "markdown",
   "id": "b16b22a1",
   "metadata": {},
   "source": [
    "В результате EDA для анализа влияния показателей жизни школьников на их успеваемость по математикебыли получены следующие выводы:\n",
    "\n",
    "В данных достаточно мало пустых значений, не было столбцов, которые мы бы исключили из за малого количеста данных.\n",
    "Выбросы найдены только в столбцах с Fedu и absences это говорит нам о том, что данные достаточно чистые.\n",
    "\n",
    "Разобрав кореляцию количественных показателей, можно было получить следующие выводы:\n",
    "Нас интересовали показатели кореляции переменных с переменной Score.\n",
    "С возрастом (age) показатели ухудшаются, скорее всего это связано с более тяжелым материалом для освоения.\n",
    "Наравне с studytime (время учебы) - важным показателем является Pedu (уровень образования родителей). Чем оно выше - тем выше балл у их ребенка. \n",
    "Проведения времени с друзьями goout негативно сказывается на рассматриваемом показателе score.\n",
    "На удивление показатель пропущенных занятий absences не ведет к плохой умпеваемости.\n",
    "\n",
    "Разобрав кореляцию номинативных переменных можно было прийти к выводу:\n",
    "Самое важное статистическое наблюдение - успеваемость ученика зависит от профессии матери Mjob, а точнее если мать работает в сфере здравохранения  - шансов на высокие баллы (согласно статистике) выше.\n",
    "В school школа GP имеет больший успех, в сравнении с MS\n",
    "В Mjob Хуже всего показатели детей, чья мама - домохозяйка\n",
    "В Fjob самые высокие показатели у детей, чьи родители работают в сфере обучения.\n",
    "В reason статистически менее успешные те ученики, кто выбирает школу из за плана обучения.\n",
    "Согласно guardian если опекуном является родитель - дети более успешные, нежели кто то иной \n",
    "schoolsup более успешные ученики те, кому не оказывают дополнительную образовательную поддержку. Скорее всего те, кто в ней не нуждается.\n",
    "higher дети, кто сремится к высшему образованию - на порядок успешнее других.\n",
    "Наличие интернета позволяет детям сделать шаг в сторону более высокого балла internet\n",
    "\n",
    "Хочется выделить показатели paid и nursery - что бы набрать успешный бал, на основе статистики - не обязательно ходить на платные курсы или в детский сад. Однако самый низкий рейтинг у детей с курсами выше, чем у детей без курсов. но так как кореляция сздесь низкая - далее эти показатели рассматривать не будем.\n",
    "Так же переменные  'sex' 'famsize', 'Pstatus', 'famsup', 'activities', 'romantic' не являются интересными для наблюдения."
   ]
  },
  {
   "cell_type": "markdown",
   "id": "0a5809d7",
   "metadata": {},
   "source": [
    "Выведем в отдельный датафрэйм самые важные параметры, которые предлагается использовать в дальнейшем для построения модели,"
   ]
  },
  {
   "cell_type": "code",
   "execution_count": 52,
   "id": "44d8d649",
   "metadata": {},
   "outputs": [
    {
     "data": {
      "text/html": [
       "<div>\n",
       "<style scoped>\n",
       "    .dataframe tbody tr th:only-of-type {\n",
       "        vertical-align: middle;\n",
       "    }\n",
       "\n",
       "    .dataframe tbody tr th {\n",
       "        vertical-align: top;\n",
       "    }\n",
       "\n",
       "    .dataframe thead th {\n",
       "        text-align: right;\n",
       "    }\n",
       "</style>\n",
       "<table border=\"1\" class=\"dataframe\">\n",
       "  <thead>\n",
       "    <tr style=\"text-align: right;\">\n",
       "      <th></th>\n",
       "      <th>school</th>\n",
       "      <th>Mjob</th>\n",
       "      <th>Fjob</th>\n",
       "      <th>reason</th>\n",
       "      <th>guardian</th>\n",
       "      <th>schoolsup</th>\n",
       "      <th>higher</th>\n",
       "      <th>internet</th>\n",
       "      <th>age</th>\n",
       "      <th>studytime</th>\n",
       "      <th>goout</th>\n",
       "      <th>absences</th>\n",
       "      <th>Pedu</th>\n",
       "    </tr>\n",
       "  </thead>\n",
       "  <tbody>\n",
       "    <tr>\n",
       "      <th>0</th>\n",
       "      <td>GP</td>\n",
       "      <td>at_home</td>\n",
       "      <td>teacher</td>\n",
       "      <td>course</td>\n",
       "      <td>mother</td>\n",
       "      <td>yes</td>\n",
       "      <td>yes</td>\n",
       "      <td>None</td>\n",
       "      <td>18</td>\n",
       "      <td>2.0</td>\n",
       "      <td>4.0</td>\n",
       "      <td>6.0</td>\n",
       "      <td>8.0</td>\n",
       "    </tr>\n",
       "    <tr>\n",
       "      <th>1</th>\n",
       "      <td>GP</td>\n",
       "      <td>at_home</td>\n",
       "      <td>other</td>\n",
       "      <td>course</td>\n",
       "      <td>father</td>\n",
       "      <td>no</td>\n",
       "      <td>yes</td>\n",
       "      <td>yes</td>\n",
       "      <td>17</td>\n",
       "      <td>2.0</td>\n",
       "      <td>3.0</td>\n",
       "      <td>4.0</td>\n",
       "      <td>2.0</td>\n",
       "    </tr>\n",
       "    <tr>\n",
       "      <th>2</th>\n",
       "      <td>GP</td>\n",
       "      <td>at_home</td>\n",
       "      <td>other</td>\n",
       "      <td>other</td>\n",
       "      <td>mother</td>\n",
       "      <td>yes</td>\n",
       "      <td>yes</td>\n",
       "      <td>yes</td>\n",
       "      <td>15</td>\n",
       "      <td>2.0</td>\n",
       "      <td>2.0</td>\n",
       "      <td>10.0</td>\n",
       "      <td>2.0</td>\n",
       "    </tr>\n",
       "    <tr>\n",
       "      <th>3</th>\n",
       "      <td>GP</td>\n",
       "      <td>health</td>\n",
       "      <td>None</td>\n",
       "      <td>home</td>\n",
       "      <td>mother</td>\n",
       "      <td>no</td>\n",
       "      <td>yes</td>\n",
       "      <td>yes</td>\n",
       "      <td>15</td>\n",
       "      <td>3.0</td>\n",
       "      <td>2.0</td>\n",
       "      <td>2.0</td>\n",
       "      <td>6.0</td>\n",
       "    </tr>\n",
       "    <tr>\n",
       "      <th>4</th>\n",
       "      <td>GP</td>\n",
       "      <td>other</td>\n",
       "      <td>other</td>\n",
       "      <td>home</td>\n",
       "      <td>father</td>\n",
       "      <td>no</td>\n",
       "      <td>yes</td>\n",
       "      <td>no</td>\n",
       "      <td>16</td>\n",
       "      <td>2.0</td>\n",
       "      <td>2.0</td>\n",
       "      <td>4.0</td>\n",
       "      <td>6.0</td>\n",
       "    </tr>\n",
       "    <tr>\n",
       "      <th>...</th>\n",
       "      <td>...</td>\n",
       "      <td>...</td>\n",
       "      <td>...</td>\n",
       "      <td>...</td>\n",
       "      <td>...</td>\n",
       "      <td>...</td>\n",
       "      <td>...</td>\n",
       "      <td>...</td>\n",
       "      <td>...</td>\n",
       "      <td>...</td>\n",
       "      <td>...</td>\n",
       "      <td>...</td>\n",
       "      <td>...</td>\n",
       "    </tr>\n",
       "    <tr>\n",
       "      <th>390</th>\n",
       "      <td>MS</td>\n",
       "      <td>services</td>\n",
       "      <td>services</td>\n",
       "      <td>course</td>\n",
       "      <td>None</td>\n",
       "      <td>no</td>\n",
       "      <td>yes</td>\n",
       "      <td>no</td>\n",
       "      <td>20</td>\n",
       "      <td>2.0</td>\n",
       "      <td>4.0</td>\n",
       "      <td>NaN</td>\n",
       "      <td>4.0</td>\n",
       "    </tr>\n",
       "    <tr>\n",
       "      <th>391</th>\n",
       "      <td>MS</td>\n",
       "      <td>services</td>\n",
       "      <td>services</td>\n",
       "      <td>course</td>\n",
       "      <td>mother</td>\n",
       "      <td>no</td>\n",
       "      <td>yes</td>\n",
       "      <td>yes</td>\n",
       "      <td>17</td>\n",
       "      <td>1.0</td>\n",
       "      <td>5.0</td>\n",
       "      <td>3.0</td>\n",
       "      <td>4.0</td>\n",
       "    </tr>\n",
       "    <tr>\n",
       "      <th>392</th>\n",
       "      <td>MS</td>\n",
       "      <td>other</td>\n",
       "      <td>other</td>\n",
       "      <td>course</td>\n",
       "      <td>None</td>\n",
       "      <td>None</td>\n",
       "      <td>None</td>\n",
       "      <td>no</td>\n",
       "      <td>21</td>\n",
       "      <td>1.0</td>\n",
       "      <td>3.0</td>\n",
       "      <td>3.0</td>\n",
       "      <td>2.0</td>\n",
       "    </tr>\n",
       "    <tr>\n",
       "      <th>393</th>\n",
       "      <td>MS</td>\n",
       "      <td>services</td>\n",
       "      <td>other</td>\n",
       "      <td>course</td>\n",
       "      <td>mother</td>\n",
       "      <td>no</td>\n",
       "      <td>yes</td>\n",
       "      <td>yes</td>\n",
       "      <td>18</td>\n",
       "      <td>1.0</td>\n",
       "      <td>1.0</td>\n",
       "      <td>0.0</td>\n",
       "      <td>5.0</td>\n",
       "    </tr>\n",
       "    <tr>\n",
       "      <th>394</th>\n",
       "      <td>MS</td>\n",
       "      <td>other</td>\n",
       "      <td>at_home</td>\n",
       "      <td>None</td>\n",
       "      <td>father</td>\n",
       "      <td>None</td>\n",
       "      <td>yes</td>\n",
       "      <td>yes</td>\n",
       "      <td>19</td>\n",
       "      <td>1.0</td>\n",
       "      <td>3.0</td>\n",
       "      <td>5.0</td>\n",
       "      <td>2.0</td>\n",
       "    </tr>\n",
       "  </tbody>\n",
       "</table>\n",
       "<p>395 rows × 13 columns</p>\n",
       "</div>"
      ],
      "text/plain": [
       "    school      Mjob      Fjob  reason guardian schoolsup higher internet  \\\n",
       "0       GP   at_home   teacher  course   mother       yes    yes     None   \n",
       "1       GP   at_home     other  course   father        no    yes      yes   \n",
       "2       GP   at_home     other   other   mother       yes    yes      yes   \n",
       "3       GP    health      None    home   mother        no    yes      yes   \n",
       "4       GP     other     other    home   father        no    yes       no   \n",
       "..     ...       ...       ...     ...      ...       ...    ...      ...   \n",
       "390     MS  services  services  course     None        no    yes       no   \n",
       "391     MS  services  services  course   mother        no    yes      yes   \n",
       "392     MS     other     other  course     None      None   None       no   \n",
       "393     MS  services     other  course   mother        no    yes      yes   \n",
       "394     MS     other   at_home    None   father      None    yes      yes   \n",
       "\n",
       "     age  studytime  goout  absences  Pedu  \n",
       "0     18        2.0    4.0       6.0   8.0  \n",
       "1     17        2.0    3.0       4.0   2.0  \n",
       "2     15        2.0    2.0      10.0   2.0  \n",
       "3     15        3.0    2.0       2.0   6.0  \n",
       "4     16        2.0    2.0       4.0   6.0  \n",
       "..   ...        ...    ...       ...   ...  \n",
       "390   20        2.0    4.0       NaN   4.0  \n",
       "391   17        1.0    5.0       3.0   4.0  \n",
       "392   21        1.0    3.0       3.0   2.0  \n",
       "393   18        1.0    1.0       0.0   5.0  \n",
       "394   19        1.0    3.0       5.0   2.0  \n",
       "\n",
       "[395 rows x 13 columns]"
      ]
     },
     "execution_count": 52,
     "metadata": {},
     "output_type": "execute_result"
    }
   ],
   "source": [
    "df_for_model = df3.loc[:, all_variables]\n",
    "df_for_model"
   ]
  },
  {
   "cell_type": "code",
   "execution_count": null,
   "id": "4741b04a",
   "metadata": {},
   "outputs": [],
   "source": []
  }
 ],
 "metadata": {
  "kernelspec": {
   "display_name": "Python 3",
   "language": "python",
   "name": "python3"
  },
  "language_info": {
   "codemirror_mode": {
    "name": "ipython",
    "version": 3
   },
   "file_extension": ".py",
   "mimetype": "text/x-python",
   "name": "python",
   "nbconvert_exporter": "python",
   "pygments_lexer": "ipython3",
   "version": "3.8.8"
  }
 },
 "nbformat": 4,
 "nbformat_minor": 5
}
